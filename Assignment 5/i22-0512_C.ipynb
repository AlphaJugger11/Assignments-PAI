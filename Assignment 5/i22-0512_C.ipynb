{
 "cells": [
  {
   "cell_type": "code",
   "execution_count": 1,
   "id": "74a7eaf2",
   "metadata": {
    "id": "74a7eaf2"
   },
   "outputs": [
    {
     "name": "stderr",
     "output_type": "stream",
     "text": [
      "C:\\Users\\alpha\\anaconda3\\Lib\\site-packages\\pydub\\utils.py:170: RuntimeWarning: Couldn't find ffmpeg or avconv - defaulting to ffmpeg, but may not work\n",
      "  warn(\"Couldn't find ffmpeg or avconv - defaulting to ffmpeg, but may not work\", RuntimeWarning)\n"
     ]
    }
   ],
   "source": [
    "import cv2\n",
    "import pydub\n",
    "import pandas as pd\n",
    "import numpy as np\n",
    "import librosa as lib\n",
    "from scipy.io import wavfile as wav\n",
    "from scipy.signal import stft\n",
    "import IPython\n",
    "import soundfile as sf\n"
   ]
  },
  {
   "cell_type": "markdown",
   "id": "48ee70fd",
   "metadata": {
    "id": "48ee70fd"
   },
   "source": [
    "# Question: 1\n",
    "\n",
    "In this question, you are tasked with enhancing the resolution of a video. The goal is to improve the quality of individual frames. You are expected to use basic algorithms for achieving this goal.\n",
    "\n",
    "### Task 1: Frame Extraction\n",
    "\n",
    "Extract frames from the video using OpenCV.\n",
    "\n",
    "### Task 2: Resolution Enhancement\n",
    "\n",
    "Apply the following enhancement algorithms to scale the extracted frames by a factor of 2:\n",
    "\n",
    "1) Nearest-neighbor Interpolation <br>\n",
    "2) Bilinear Interpolation <br>\n",
    "3) Bicubic Interpolation <br>\n",
    "\n",
    "Explore these approaches by your self. These are just builtin parameters in resize function.\n",
    "https://theailearner.com/2018/11/15/image-interpolation-using-opencv-python/\n",
    "\n",
    "### Task 3: Video Reconstruction\n",
    "\n",
    "After enhancing the frames, reconstruct the video by merging the enhanced frames while ensuring that the frame rate of the reconstructed video matches that of the original video. Generate a separate video for each interpolation method.\n",
    "\n",
    "<b>Bonus</b>: Apply a self-selected algorithm to improve video quality."
   ]
  },
  {
   "cell_type": "code",
   "execution_count": null,
   "id": "2144ac75",
   "metadata": {
    "id": "2144ac75"
   },
   "outputs": [],
   "source": [
    "vid = cv2.VideoCapture('Q1.mp4')\n",
    "fps = int(vid.get(cv2.CAP_PROP_FPS))\n",
    "heightframe = int(vid.get(cv2.CAP_PROP_FRAME_HEIGHT))\n",
    "widthframe = int(vid.get(cv2.CAP_PROP_FRAME_WIDTH))\n",
    "vid_type = cv2.VideoWriter_fourcc(*'mp4v')\n",
    "enhance_file = cv2.VideoWriter('intercubic.mp4', vid_type, 30, (widthframe * 2, heightframe * 2))\n",
    "\n",
    "while True:\n",
    "    ret, frame = vid.read()\n",
    "    if ret:\n",
    "        outframe = cv2.resize(frame, None, fx=2, fy=2, interpolation=cv2.INTER_CUBIC)\n",
    "        enhance_file.write(outframe)\n",
    "        cv2.imshow('Frame', outframe)\n",
    "        if cv2.waitKey(30) & 0xFF == 27:\n",
    "            break\n",
    "    else:\n",
    "        break\n",
    "vid.release()\n",
    "enhance_file.release()\n",
    "cv2.destroyAllWindows()"
   ]
  },
  {
   "cell_type": "code",
   "execution_count": null,
   "id": "2aa2dcef",
   "metadata": {
    "id": "2aa2dcef"
   },
   "outputs": [],
   "source": [
    "# orgframearr"
   ]
  },
  {
   "cell_type": "code",
   "execution_count": null,
   "id": "5a561284",
   "metadata": {
    "id": "5a561284"
   },
   "outputs": [],
   "source": [
    "\n",
    "vid = cv2.VideoCapture('Q1.mp4')\n",
    "vid_type = cv2.VideoWriter_fourcc(*'XVID')\n",
    "enhance_file = cv2.VideoWriter('near_neigh.mp4',vid_type,30,(widthframe*2,heightframe*2))\n",
    "while True:\n",
    "    ret,frame = vid.read()\n",
    "    if ret == True:\n",
    "        outframe = cv2.resize(frame,None, fx = 2, fy = 2, interpolation = cv2.INTER_NEAREST)\n",
    "        enhance_file.write(outframe)\n",
    "    else:\n",
    "        break\n",
    "    if cv2.waitKey(30) & 0xFF == 27:\n",
    "        break\n",
    "vid.release()\n",
    "enhance_file.release()\n",
    "cv2.destroyAllWindows()"
   ]
  },
  {
   "cell_type": "code",
   "execution_count": null,
   "id": "2e4eacd7",
   "metadata": {
    "id": "2e4eacd7"
   },
   "outputs": [],
   "source": [
    "\n",
    "vid = cv2.VideoCapture('Q1.mp4')\n",
    "vid_type = cv2.VideoWriter_fourcc(*'XVID')\n",
    "enhance_file = cv2.VideoWriter('linear.mp4',vid_type,29,(widthframe*2,heightframe*2))\n",
    "while True:\n",
    "    ret,frame = vid.read()\n",
    "    if ret == True:\n",
    "        b = cv2.resize(frame,None, fx = 2, fy = 2, interpolation = cv2.INTER_LINEAR)\n",
    "        enhance_file.write(b)\n",
    "    else:\n",
    "        break\n",
    "    if cv2.waitKey(30) & 0xFF == 27:\n",
    "        break\n",
    "vid.release()\n",
    "enhance_file.release()\n",
    "cv2.destroyAllWindows()"
   ]
  },
  {
   "cell_type": "code",
   "execution_count": null,
   "id": "a9f5f2f3",
   "metadata": {
    "id": "a9f5f2f3"
   },
   "outputs": [],
   "source": [
    "#### I dont know name of this exact algo but this looked like it produced better results than others\n",
    "\n",
    "vid = cv2.VideoCapture('Q1.mp4')\n",
    "vid_type = cv2.VideoWriter_fourcc(*'XVID')\n",
    "enhance_file = cv2.VideoWriter('AREA.mp4',vid_type,29,(widthframe*10,heightframe*10))\n",
    "while True:\n",
    "    ret,frame = vid.read()\n",
    "    if ret == True:\n",
    "        b = cv2.resize(frame,None, fx = 10, fy = 10, interpolation = cv2.INTER_LANCZOS4)  ## this one\n",
    "        enhance_file.write(b)\n",
    "    else:\n",
    "        break\n",
    "    if cv2.waitKey(30) & 0xFF == 27:\n",
    "        break\n",
    "vid.release()\n",
    "enhance_file.release()\n",
    "cv2.destroyAllWindows()"
   ]
  },
  {
   "cell_type": "markdown",
   "id": "eece6ff9",
   "metadata": {
    "id": "eece6ff9"
   },
   "source": [
    "##"
   ]
  },
  {
   "cell_type": "markdown",
   "id": "83645d46",
   "metadata": {
    "id": "83645d46"
   },
   "source": [
    "# Question: 2\n",
    "\n",
    "In this question, you are tasked with enhancing the audio quality of the video. Follow the given procedure to increase audio quality.\n",
    "\n",
    "### Step 1: Short-Time Fourier Transform (STFT)\n",
    "Compute the Short-Time Fourier Transform (STFT) of the audio signal. This operation transforms the audio into the frequency domain over short time intervals.\n",
    "\n",
    "### Step 2: Magnitude and Phase Extraction\n",
    "From the STFT, get the magnitude and phase using the np.abs() and np.angle() functions.\n",
    "\n",
    "### Step 3: Noise Profile Creation\n",
    "Load the noisy audio and calculate its STFT and magnitude from the STFT. Afterward, compute the average magnitude of the audio along axis=1 to generate a noise profile. This profile is essential for identifying and removing noise.\n",
    "\n",
    "### Step 4: Adjusting with a Hyperparameter\n",
    "Multiply the noise profile array by a hyperparameter represented as alpha. Experiment with various values of alpha to fine-tune the results. A good starting point is to set alpha to 2.\n",
    "\n",
    "### Step 5: Audio Denoising\n",
    "Subtract the mean noise array from the original audio (You may need to adjust the dimensions of the mean noise array to match with original audio). Ensure that any negative values in the resulting array are replaced with 0. This step effectively reduces noise in the audio.\n",
    "\n",
    "### Step 6: Incorporating Phase Information\n",
    "Multiply the modified audio by the complex exponential of the phase information obtained in step 3, which can be expressed as np.exp(1.0j * phase).\n",
    "\n",
    "### Step 7: Inverse Short-Time Fourier Transform (ISTFT)\n",
    "Reconstruct the audio by performing the Inverse Short Time Fourier Transform (ISTFT) on the modified audio signal using librosa. Save the resulting audio file."
   ]
  },
  {
   "cell_type": "code",
   "execution_count": null,
   "id": "7940e6ec",
   "metadata": {
    "id": "7940e6ec"
   },
   "outputs": [],
   "source": [
    "ndata , nsr = lib.load(\"Q2-Noise.wav\")\n",
    "odata, osr  = lib.load('Q2.wav')"
   ]
  },
  {
   "cell_type": "code",
   "execution_count": null,
   "id": "fcdf475b",
   "metadata": {
    "id": "fcdf475b"
   },
   "outputs": [],
   "source": [
    "\n",
    "Nst  = lib.stft(ndata)\n",
    "Ost = lib.stft(odata)\n",
    "omag = np.abs(Ost)\n",
    "nmag = np.abs(Nst)                   ## absolute values of\n",
    "oang  =np.angle(Ost)             # original audio angle\n",
    "nang = np.angle(Nst)        # noise angle\n",
    "# print(nmag)\n",
    "# mean mag\n",
    "m_mag = np.mean(nmag,1)\n",
    "hyperparam = m_mag* 4\n",
    "# print(hyperparam.shape)\n",
    "# print(omag.shape)\n",
    "# print(oang.shape)"
   ]
  },
  {
   "cell_type": "code",
   "execution_count": null,
   "id": "6c0381e8",
   "metadata": {
    "id": "6c0381e8"
   },
   "outputs": [],
   "source": [
    "# omag = omag.reshape(587,1025)\n",
    "# omag.shape            ### this comes with some noise"
   ]
  },
  {
   "cell_type": "code",
   "execution_count": null,
   "id": "de3e1c38",
   "metadata": {
    "id": "de3e1c38",
    "outputId": "068974ee-41b0-4da1-fedc-f7a90b4f2202"
   },
   "outputs": [
    {
     "name": "stdout",
     "output_type": "stream",
     "text": [
      "(587, 1025)\n",
      "(587, 1025)\n"
     ]
    }
   ],
   "source": [
    "trans = omag.T     # taking transpose so shapes are equal when subtracting\n",
    "# print(trans.shape)      # 587\n",
    "dnoise = []\n",
    "for i in range(len(trans)):\n",
    "    t = trans[i] - hyperparam      ## as hyper param is already in a simgle dimension we will iterate over trans to minus it from magnitude of orignial file\n",
    "    dnoise.append(t)\n",
    "dnoise = np.array(dnoise)\n",
    "print(dnoise.shape)\n",
    "dnoise = dnoise.T\n",
    "dnoise[dnoise<0] = 0\n",
    "# dnoise"
   ]
  },
  {
   "cell_type": "code",
   "execution_count": null,
   "id": "7c6ae99d",
   "metadata": {
    "id": "7c6ae99d"
   },
   "outputs": [],
   "source": [
    "# oang = oang.reshape(587,1025)"
   ]
  },
  {
   "cell_type": "code",
   "execution_count": null,
   "id": "12a174d5",
   "metadata": {
    "id": "12a174d5",
    "outputId": "1e14f05a-802f-4faa-945b-2534d1a48e85"
   },
   "outputs": [
    {
     "data": {
      "text/plain": [
       "numpy.ndarray"
      ]
     },
     "execution_count": 210,
     "metadata": {},
     "output_type": "execute_result"
    }
   ],
   "source": [
    "phase = dnoise*np.exp(1.0j*oang)"
   ]
  },
  {
   "cell_type": "code",
   "execution_count": null,
   "id": "2d00812e",
   "metadata": {
    "id": "2d00812e"
   },
   "outputs": [],
   "source": [
    "mod = lib.istft(phase)\n",
    "sf.write('dnoisefile.wav',mod,osr)"
   ]
  },
  {
   "cell_type": "markdown",
   "id": "7dc88728",
   "metadata": {
    "id": "7dc88728"
   },
   "source": [
    "# Question: 3\n",
    "\n",
    "For this task, use whisper inference to generate text from the audio file. Use any translation library to translate the text into another language, and then utilize a TTS system to produce audio from the translated text. Supported Languages are :English, Urdu, Arabic"
   ]
  },
  {
   "cell_type": "code",
   "execution_count": 2,
   "id": "602468b7",
   "metadata": {
    "colab": {
     "base_uri": "https://localhost:8080/",
     "height": 1000
    },
    "id": "602468b7",
    "outputId": "6a67ceb0-244d-4d2e-dfb8-7e364348499e"
   },
   "outputs": [
    {
     "name": "stdout",
     "output_type": "stream",
     "text": [
      "Cloning into 'tortoise-tts-fast'...\n",
      "remote: Enumerating objects: 2314, done.\u001b[K\n",
      "remote: Total 2314 (delta 0), reused 0 (delta 0), pack-reused 2314\u001b[K\n",
      "Receiving objects: 100% (2314/2314), 105.07 MiB | 24.63 MiB/s, done.\n",
      "Resolving deltas: 100% (1070/1070), done.\n",
      "Updating files: 100% (697/697), done.\n",
      "Collecting git+https://github.com/openai/whisper.git\n",
      "  Cloning https://github.com/openai/whisper.git to /tmp/pip-req-build-pqszr0ws\n",
      "  Running command git clone --filter=blob:none --quiet https://github.com/openai/whisper.git /tmp/pip-req-build-pqszr0ws\n",
      "  Resolved https://github.com/openai/whisper.git to commit fcfeaf1b61994c071bba62da47d7846933576ac9\n",
      "  Installing build dependencies ... \u001b[?25l\u001b[?25hdone\n",
      "  Getting requirements to build wheel ... \u001b[?25l\u001b[?25hdone\n",
      "  Preparing metadata (pyproject.toml) ... \u001b[?25l\u001b[?25hdone\n",
      "Requirement already satisfied: triton==2.0.0 in /usr/local/lib/python3.10/dist-packages (from openai-whisper==20231106) (2.0.0)\n",
      "Requirement already satisfied: numba in /usr/local/lib/python3.10/dist-packages (from openai-whisper==20231106) (0.58.1)\n",
      "Requirement already satisfied: numpy in /usr/local/lib/python3.10/dist-packages (from openai-whisper==20231106) (1.23.5)\n",
      "Requirement already satisfied: torch in /usr/local/lib/python3.10/dist-packages (from openai-whisper==20231106) (2.0.1)\n",
      "Requirement already satisfied: tqdm in /usr/local/lib/python3.10/dist-packages (from openai-whisper==20231106) (4.66.1)\n",
      "Requirement already satisfied: more-itertools in /usr/local/lib/python3.10/dist-packages (from openai-whisper==20231106) (10.1.0)\n",
      "Requirement already satisfied: tiktoken in /usr/local/lib/python3.10/dist-packages (from openai-whisper==20231106) (0.5.1)\n",
      "Requirement already satisfied: cmake in /usr/local/lib/python3.10/dist-packages (from triton==2.0.0->openai-whisper==20231106) (3.27.7)\n",
      "Requirement already satisfied: filelock in /usr/local/lib/python3.10/dist-packages (from triton==2.0.0->openai-whisper==20231106) (3.13.1)\n",
      "Requirement already satisfied: lit in /usr/local/lib/python3.10/dist-packages (from triton==2.0.0->openai-whisper==20231106) (17.0.4)\n",
      "Requirement already satisfied: llvmlite<0.42,>=0.41.0dev0 in /usr/local/lib/python3.10/dist-packages (from numba->openai-whisper==20231106) (0.41.1)\n",
      "Requirement already satisfied: regex>=2022.1.18 in /usr/local/lib/python3.10/dist-packages (from tiktoken->openai-whisper==20231106) (2023.6.3)\n",
      "Requirement already satisfied: requests>=2.26.0 in /usr/local/lib/python3.10/dist-packages (from tiktoken->openai-whisper==20231106) (2.31.0)\n",
      "Requirement already satisfied: typing-extensions in /usr/local/lib/python3.10/dist-packages (from torch->openai-whisper==20231106) (4.5.0)\n",
      "Requirement already satisfied: sympy in /usr/local/lib/python3.10/dist-packages (from torch->openai-whisper==20231106) (1.12)\n",
      "Requirement already satisfied: networkx in /usr/local/lib/python3.10/dist-packages (from torch->openai-whisper==20231106) (3.2.1)\n",
      "Requirement already satisfied: jinja2 in /usr/local/lib/python3.10/dist-packages (from torch->openai-whisper==20231106) (3.1.2)\n",
      "Requirement already satisfied: nvidia-cuda-nvrtc-cu11==11.7.99 in /usr/local/lib/python3.10/dist-packages (from torch->openai-whisper==20231106) (11.7.99)\n",
      "Requirement already satisfied: nvidia-cuda-runtime-cu11==11.7.99 in /usr/local/lib/python3.10/dist-packages (from torch->openai-whisper==20231106) (11.7.99)\n",
      "Requirement already satisfied: nvidia-cuda-cupti-cu11==11.7.101 in /usr/local/lib/python3.10/dist-packages (from torch->openai-whisper==20231106) (11.7.101)\n",
      "Requirement already satisfied: nvidia-cudnn-cu11==8.5.0.96 in /usr/local/lib/python3.10/dist-packages (from torch->openai-whisper==20231106) (8.5.0.96)\n",
      "Requirement already satisfied: nvidia-cublas-cu11==11.10.3.66 in /usr/local/lib/python3.10/dist-packages (from torch->openai-whisper==20231106) (11.10.3.66)\n",
      "Requirement already satisfied: nvidia-cufft-cu11==10.9.0.58 in /usr/local/lib/python3.10/dist-packages (from torch->openai-whisper==20231106) (10.9.0.58)\n",
      "Requirement already satisfied: nvidia-curand-cu11==10.2.10.91 in /usr/local/lib/python3.10/dist-packages (from torch->openai-whisper==20231106) (10.2.10.91)\n",
      "Requirement already satisfied: nvidia-cusolver-cu11==11.4.0.1 in /usr/local/lib/python3.10/dist-packages (from torch->openai-whisper==20231106) (11.4.0.1)\n",
      "Requirement already satisfied: nvidia-cusparse-cu11==11.7.4.91 in /usr/local/lib/python3.10/dist-packages (from torch->openai-whisper==20231106) (11.7.4.91)\n",
      "Requirement already satisfied: nvidia-nccl-cu11==2.14.3 in /usr/local/lib/python3.10/dist-packages (from torch->openai-whisper==20231106) (2.14.3)\n",
      "Requirement already satisfied: nvidia-nvtx-cu11==11.7.91 in /usr/local/lib/python3.10/dist-packages (from torch->openai-whisper==20231106) (11.7.91)\n",
      "Requirement already satisfied: setuptools in /usr/local/lib/python3.10/dist-packages (from nvidia-cublas-cu11==11.10.3.66->torch->openai-whisper==20231106) (67.7.2)\n",
      "Requirement already satisfied: wheel in /usr/local/lib/python3.10/dist-packages (from nvidia-cublas-cu11==11.10.3.66->torch->openai-whisper==20231106) (0.41.3)\n",
      "Requirement already satisfied: charset-normalizer<4,>=2 in /usr/local/lib/python3.10/dist-packages (from requests>=2.26.0->tiktoken->openai-whisper==20231106) (3.3.2)\n",
      "Requirement already satisfied: idna<4,>=2.5 in /usr/local/lib/python3.10/dist-packages (from requests>=2.26.0->tiktoken->openai-whisper==20231106) (3.4)\n",
      "Requirement already satisfied: urllib3<3,>=1.21.1 in /usr/local/lib/python3.10/dist-packages (from requests>=2.26.0->tiktoken->openai-whisper==20231106) (2.0.7)\n",
      "Requirement already satisfied: certifi>=2017.4.17 in /usr/local/lib/python3.10/dist-packages (from requests>=2.26.0->tiktoken->openai-whisper==20231106) (2023.7.22)\n",
      "Requirement already satisfied: MarkupSafe>=2.0 in /usr/local/lib/python3.10/dist-packages (from jinja2->torch->openai-whisper==20231106) (2.1.3)\n",
      "Requirement already satisfied: mpmath>=0.19 in /usr/local/lib/python3.10/dist-packages (from sympy->torch->openai-whisper==20231106) (1.3.0)\n",
      "Get:1 https://cloud.r-project.org/bin/linux/ubuntu jammy-cran40/ InRelease [3,626 B]\n",
      "Hit:2 https://developer.download.nvidia.com/compute/cuda/repos/ubuntu2204/x86_64  InRelease\n",
      "Hit:3 http://archive.ubuntu.com/ubuntu jammy InRelease\n",
      "Get:4 http://archive.ubuntu.com/ubuntu jammy-updates InRelease [119 kB]\n",
      "Get:5 http://security.ubuntu.com/ubuntu jammy-security InRelease [110 kB]\n",
      "Get:6 https://ppa.launchpadcontent.net/c2d4u.team/c2d4u4.0+/ubuntu jammy InRelease [18.1 kB]\n",
      "Get:7 http://archive.ubuntu.com/ubuntu jammy-backports InRelease [109 kB]\n",
      "Get:8 http://security.ubuntu.com/ubuntu jammy-security/main amd64 Packages [1,192 kB]\n",
      "Get:9 http://archive.ubuntu.com/ubuntu jammy-updates/main amd64 Packages [1,463 kB]\n",
      "Hit:10 https://ppa.launchpadcontent.net/deadsnakes/ppa/ubuntu jammy InRelease\n",
      "Get:11 http://archive.ubuntu.com/ubuntu jammy-updates/universe amd64 Packages [1,274 kB]\n",
      "Hit:12 https://ppa.launchpadcontent.net/graphics-drivers/ppa/ubuntu jammy InRelease\n",
      "Hit:13 https://ppa.launchpadcontent.net/ubuntugis/ppa/ubuntu jammy InRelease\n",
      "Get:14 https://ppa.launchpadcontent.net/c2d4u.team/c2d4u4.0+/ubuntu jammy/main Sources [2,240 kB]\n",
      "Get:15 https://ppa.launchpadcontent.net/c2d4u.team/c2d4u4.0+/ubuntu jammy/main amd64 Packages [1,150 kB]\n",
      "Fetched 7,679 kB in 9s (895 kB/s)\n",
      "Reading package lists... Done\n",
      "Building dependency tree... Done\n",
      "Reading state information... Done\n",
      "19 packages can be upgraded. Run 'apt list --upgradable' to see them.\n",
      "Reading package lists... Done\n",
      "Building dependency tree... Done\n",
      "Reading state information... Done\n",
      "ffmpeg is already the newest version (7:4.4.2-0ubuntu0.22.04.1).\n",
      "0 upgraded, 0 newly installed, 0 to remove and 19 not upgraded.\n",
      "Collecting transformers==4.29.2\n",
      "  Downloading transformers-4.29.2-py3-none-any.whl (7.1 MB)\n",
      "\u001b[2K     \u001b[90m━━━━━━━━━━━━━━━━━━━━━━━━━━━━━━━━━━━━━━━━\u001b[0m \u001b[32m7.1/7.1 MB\u001b[0m \u001b[31m47.0 MB/s\u001b[0m eta \u001b[36m0:00:00\u001b[0m\n",
      "\u001b[?25hRequirement already satisfied: filelock in /usr/local/lib/python3.10/dist-packages (from transformers==4.29.2) (3.13.1)\n",
      "Collecting huggingface-hub<1.0,>=0.14.1 (from transformers==4.29.2)\n",
      "  Downloading huggingface_hub-0.19.0-py3-none-any.whl (311 kB)\n",
      "\u001b[2K     \u001b[90m━━━━━━━━━━━━━━━━━━━━━━━━━━━━━━━━━━━━━━━━\u001b[0m \u001b[32m311.2/311.2 kB\u001b[0m \u001b[31m20.9 MB/s\u001b[0m eta \u001b[36m0:00:00\u001b[0m\n",
      "\u001b[?25hRequirement already satisfied: numpy>=1.17 in /usr/local/lib/python3.10/dist-packages (from transformers==4.29.2) (1.23.5)\n",
      "Requirement already satisfied: packaging>=20.0 in /usr/local/lib/python3.10/dist-packages (from transformers==4.29.2) (23.2)\n",
      "Requirement already satisfied: pyyaml>=5.1 in /usr/local/lib/python3.10/dist-packages (from transformers==4.29.2) (6.0.1)\n",
      "Requirement already satisfied: regex!=2019.12.17 in /usr/local/lib/python3.10/dist-packages (from transformers==4.29.2) (2023.6.3)\n",
      "Requirement already satisfied: requests in /usr/local/lib/python3.10/dist-packages (from transformers==4.29.2) (2.31.0)\n",
      "Collecting tokenizers!=0.11.3,<0.14,>=0.11.1 (from transformers==4.29.2)\n",
      "  Downloading tokenizers-0.13.3-cp310-cp310-manylinux_2_17_x86_64.manylinux2014_x86_64.whl (7.8 MB)\n",
      "\u001b[2K     \u001b[90m━━━━━━━━━━━━━━━━━━━━━━━━━━━━━━━━━━━━━━━━\u001b[0m \u001b[32m7.8/7.8 MB\u001b[0m \u001b[31m52.2 MB/s\u001b[0m eta \u001b[36m0:00:00\u001b[0m\n",
      "\u001b[?25hRequirement already satisfied: tqdm>=4.27 in /usr/local/lib/python3.10/dist-packages (from transformers==4.29.2) (4.66.1)\n",
      "Requirement already satisfied: fsspec>=2023.5.0 in /usr/local/lib/python3.10/dist-packages (from huggingface-hub<1.0,>=0.14.1->transformers==4.29.2) (2023.6.0)\n",
      "Requirement already satisfied: typing-extensions>=3.7.4.3 in /usr/local/lib/python3.10/dist-packages (from huggingface-hub<1.0,>=0.14.1->transformers==4.29.2) (4.5.0)\n",
      "Requirement already satisfied: charset-normalizer<4,>=2 in /usr/local/lib/python3.10/dist-packages (from requests->transformers==4.29.2) (3.3.2)\n",
      "Requirement already satisfied: idna<4,>=2.5 in /usr/local/lib/python3.10/dist-packages (from requests->transformers==4.29.2) (3.4)\n",
      "Requirement already satisfied: urllib3<3,>=1.21.1 in /usr/local/lib/python3.10/dist-packages (from requests->transformers==4.29.2) (2.0.7)\n",
      "Requirement already satisfied: certifi>=2017.4.17 in /usr/local/lib/python3.10/dist-packages (from requests->transformers==4.29.2) (2023.7.22)\n",
      "Installing collected packages: tokenizers, huggingface-hub, transformers\n",
      "Successfully installed huggingface-hub-0.19.0 tokenizers-0.13.3 transformers-4.29.2\n",
      "/content/tortoise-tts-fast\n",
      "Ignoring backports-zoneinfo: markers 'python_version >= \"3.8\" and python_version < \"3.9\"' don't match your environment\n",
      "Collecting bigvgan@ git+https://github.com/152334H/BigVGAN.git@HEAD (from -r requirements.txt (line 38))\n",
      "\u001b[31mERROR: Can't verify hashes for these requirements because we don't have a way to hash version control repositories:\n",
      "    bigvgan@ git+https://github.com/152334H/BigVGAN.git@HEAD from git+https://github.com/152334H/BigVGAN.git@HEAD (from -r requirements.txt (line 38))\u001b[0m\u001b[31m\n",
      "\u001b[0mObtaining file:///content/tortoise-tts-fast\n",
      "  Installing build dependencies ... \u001b[?25l\u001b[?25hdone\n",
      "  Checking if build backend supports build_editable ... \u001b[?25l\u001b[?25hdone\n",
      "  Getting requirements to build editable ... \u001b[?25l\u001b[?25hdone\n",
      "  Preparing editable metadata (pyproject.toml) ... \u001b[?25l\u001b[?25hdone\n",
      "Collecting bigvgan@ git+https://github.com/152334H/BigVGAN.git (from TorToiSe==3.0.0)\n",
      "  Cloning https://github.com/152334H/BigVGAN.git to /tmp/pip-install-bps8tera/bigvgan_cbbcc0420b4e48c58e0cfe89629dea17\n",
      "  Running command git clone --filter=blob:none --quiet https://github.com/152334H/BigVGAN.git /tmp/pip-install-bps8tera/bigvgan_cbbcc0420b4e48c58e0cfe89629dea17\n",
      "  Resolved https://github.com/152334H/BigVGAN.git to commit b10aaeea6ff7e5704d4f8198071cf9a4c174e78a\n",
      "  Preparing metadata (setup.py) ... \u001b[?25l\u001b[?25hdone\n",
      "Collecting Unidecode<2.0.0,>=1.3.6 (from TorToiSe==3.0.0)\n",
      "  Downloading Unidecode-1.3.7-py3-none-any.whl (235 kB)\n",
      "\u001b[2K     \u001b[90m━━━━━━━━━━━━━━━━━━━━━━━━━━━━━━━━━━━━━━━━\u001b[0m \u001b[32m235.5/235.5 kB\u001b[0m \u001b[31m4.3 MB/s\u001b[0m eta \u001b[36m0:00:00\u001b[0m\n",
      "\u001b[?25hCollecting einops<0.7.0,>=0.6.0 (from TorToiSe==3.0.0)\n",
      "  Downloading einops-0.6.1-py3-none-any.whl (42 kB)\n",
      "\u001b[2K     \u001b[90m━━━━━━━━━━━━━━━━━━━━━━━━━━━━━━━━━━━━━━━━\u001b[0m \u001b[32m42.2/42.2 kB\u001b[0m \u001b[31m5.9 MB/s\u001b[0m eta \u001b[36m0:00:00\u001b[0m\n",
      "\u001b[?25hRequirement already satisfied: gdown<5.0.0,>=4.6.4 in /usr/local/lib/python3.10/dist-packages (from TorToiSe==3.0.0) (4.6.6)\n",
      "Collecting inflect<7.0.0,>=6.0.2 (from TorToiSe==3.0.0)\n",
      "  Downloading inflect-6.2.0-py3-none-any.whl (35 kB)\n",
      "Collecting k-diffusion<0.0.15,>=0.0.14 (from TorToiSe==3.0.0)\n",
      "  Downloading k_diffusion-0.0.14-py3-none-any.whl (25 kB)\n",
      "Collecting librosa<0.9.0,>=0.8.1 (from TorToiSe==3.0.0)\n",
      "  Downloading librosa-0.8.1-py3-none-any.whl (203 kB)\n",
      "\u001b[2K     \u001b[90m━━━━━━━━━━━━━━━━━━━━━━━━━━━━━━━━━━━━━━━━\u001b[0m \u001b[32m203.8/203.8 kB\u001b[0m \u001b[31m22.5 MB/s\u001b[0m eta \u001b[36m0:00:00\u001b[0m\n",
      "\u001b[?25hCollecting numba<0.57.0,>=0.56.4 (from TorToiSe==3.0.0)\n",
      "  Downloading numba-0.56.4-cp310-cp310-manylinux2014_x86_64.manylinux_2_17_x86_64.whl (3.5 MB)\n",
      "\u001b[2K     \u001b[90m━━━━━━━━━━━━━━━━━━━━━━━━━━━━━━━━━━━━━━━━\u001b[0m \u001b[32m3.5/3.5 MB\u001b[0m \u001b[31m55.4 MB/s\u001b[0m eta \u001b[36m0:00:00\u001b[0m\n",
      "\u001b[?25hCollecting progressbar<3.0,>=2.5 (from TorToiSe==3.0.0)\n",
      "  Downloading progressbar-2.5.tar.gz (10 kB)\n",
      "  Preparing metadata (setup.py) ... \u001b[?25l\u001b[?25hdone\n",
      "Collecting rotary-embedding-torch<0.3.0,>=0.2.1 (from TorToiSe==3.0.0)\n",
      "  Downloading rotary_embedding_torch-0.2.7-py3-none-any.whl (4.8 kB)\n",
      "Requirement already satisfied: scipy<2.0.0,>=1.10.0 in /usr/local/lib/python3.10/dist-packages (from TorToiSe==3.0.0) (1.11.3)\n",
      "Collecting simple-parsing<0.0.22,>=0.0.21 (from TorToiSe==3.0.0)\n",
      "  Downloading simple_parsing-0.0.21.post1-py3-none-any.whl (92 kB)\n",
      "\u001b[2K     \u001b[90m━━━━━━━━━━━━━━━━━━━━━━━━━━━━━━━━━━━━━━━━\u001b[0m \u001b[32m92.8/92.8 kB\u001b[0m \u001b[31m13.6 MB/s\u001b[0m eta \u001b[36m0:00:00\u001b[0m\n",
      "\u001b[?25hCollecting streamlit<2.0.0,>=1.18.1 (from TorToiSe==3.0.0)\n",
      "  Downloading streamlit-1.28.1-py2.py3-none-any.whl (8.4 MB)\n",
      "\u001b[2K     \u001b[90m━━━━━━━━━━━━━━━━━━━━━━━━━━━━━━━━━━━━━━━━\u001b[0m \u001b[32m8.4/8.4 MB\u001b[0m \u001b[31m74.0 MB/s\u001b[0m eta \u001b[36m0:00:00\u001b[0m\n",
      "\u001b[?25hRequirement already satisfied: tokenizers<0.14.0,>=0.13.2 in /usr/local/lib/python3.10/dist-packages (from TorToiSe==3.0.0) (0.13.3)\n",
      "Collecting torchaudio<0.14.0,>=0.13.1 (from TorToiSe==3.0.0)\n",
      "  Downloading torchaudio-0.13.1-cp310-cp310-manylinux1_x86_64.whl (4.2 MB)\n",
      "\u001b[2K     \u001b[90m━━━━━━━━━━━━━━━━━━━━━━━━━━━━━━━━━━━━━━━━\u001b[0m \u001b[32m4.2/4.2 MB\u001b[0m \u001b[31m26.7 MB/s\u001b[0m eta \u001b[36m0:00:00\u001b[0m\n",
      "\u001b[?25hRequirement already satisfied: tqdm<5.0.0,>=4.64.1 in /usr/local/lib/python3.10/dist-packages (from TorToiSe==3.0.0) (4.66.1)\n",
      "Requirement already satisfied: transformers<5.0.0,>=4.26.1 in /usr/local/lib/python3.10/dist-packages (from TorToiSe==3.0.0) (4.29.2)\n",
      "Collecting voicefixer<0.2.0,>=0.1.2 (from TorToiSe==3.0.0)\n",
      "  Downloading voicefixer-0.1.2-py3-none-any.whl (52 kB)\n",
      "\u001b[2K     \u001b[90m━━━━━━━━━━━━━━━━━━━━━━━━━━━━━━━━━━━━━━━━\u001b[0m \u001b[32m52.2/52.2 kB\u001b[0m \u001b[31m6.5 MB/s\u001b[0m eta \u001b[36m0:00:00\u001b[0m\n",
      "\u001b[?25hRequirement already satisfied: filelock in /usr/local/lib/python3.10/dist-packages (from gdown<5.0.0,>=4.6.4->TorToiSe==3.0.0) (3.13.1)\n",
      "Requirement already satisfied: requests[socks] in /usr/local/lib/python3.10/dist-packages (from gdown<5.0.0,>=4.6.4->TorToiSe==3.0.0) (2.31.0)\n",
      "Requirement already satisfied: six in /usr/local/lib/python3.10/dist-packages (from gdown<5.0.0,>=4.6.4->TorToiSe==3.0.0) (1.16.0)\n",
      "Requirement already satisfied: beautifulsoup4 in /usr/local/lib/python3.10/dist-packages (from gdown<5.0.0,>=4.6.4->TorToiSe==3.0.0) (4.11.2)\n",
      "Requirement already satisfied: pydantic>=1.9.1 in /usr/local/lib/python3.10/dist-packages (from inflect<7.0.0,>=6.0.2->TorToiSe==3.0.0) (1.10.13)\n",
      "Requirement already satisfied: typing-extensions in /usr/local/lib/python3.10/dist-packages (from inflect<7.0.0,>=6.0.2->TorToiSe==3.0.0) (4.5.0)\n",
      "Collecting accelerate (from k-diffusion<0.0.15,>=0.0.14->TorToiSe==3.0.0)\n",
      "  Downloading accelerate-0.24.1-py3-none-any.whl (261 kB)\n",
      "\u001b[2K     \u001b[90m━━━━━━━━━━━━━━━━━━━━━━━━━━━━━━━━━━━━━━━━\u001b[0m \u001b[32m261.4/261.4 kB\u001b[0m \u001b[31m25.3 MB/s\u001b[0m eta \u001b[36m0:00:00\u001b[0m\n",
      "\u001b[?25hCollecting clean-fid (from k-diffusion<0.0.15,>=0.0.14->TorToiSe==3.0.0)\n",
      "  Downloading clean_fid-0.1.35-py3-none-any.whl (26 kB)\n",
      "Collecting clip-anytorch (from k-diffusion<0.0.15,>=0.0.14->TorToiSe==3.0.0)\n",
      "  Downloading clip_anytorch-2.5.2-py3-none-any.whl (1.4 MB)\n",
      "\u001b[2K     \u001b[90m━━━━━━━━━━━━━━━━━━━━━━━━━━━━━━━━━━━━━━━━\u001b[0m \u001b[32m1.4/1.4 MB\u001b[0m \u001b[31m43.1 MB/s\u001b[0m eta \u001b[36m0:00:00\u001b[0m\n",
      "\u001b[?25hCollecting jsonmerge (from k-diffusion<0.0.15,>=0.0.14->TorToiSe==3.0.0)\n",
      "  Downloading jsonmerge-1.9.2-py3-none-any.whl (19 kB)\n",
      "Collecting kornia (from k-diffusion<0.0.15,>=0.0.14->TorToiSe==3.0.0)\n",
      "  Downloading kornia-0.7.0-py2.py3-none-any.whl (705 kB)\n",
      "\u001b[2K     \u001b[90m━━━━━━━━━━━━━━━━━━━━━━━━━━━━━━━━━━━━━━━━\u001b[0m \u001b[32m705.7/705.7 kB\u001b[0m \u001b[31m50.2 MB/s\u001b[0m eta \u001b[36m0:00:00\u001b[0m\n",
      "\u001b[?25hRequirement already satisfied: Pillow in /usr/local/lib/python3.10/dist-packages (from k-diffusion<0.0.15,>=0.0.14->TorToiSe==3.0.0) (9.4.0)\n",
      "Collecting resize-right (from k-diffusion<0.0.15,>=0.0.14->TorToiSe==3.0.0)\n",
      "  Downloading resize_right-0.0.2-py3-none-any.whl (8.9 kB)\n",
      "Requirement already satisfied: scikit-image in /usr/local/lib/python3.10/dist-packages (from k-diffusion<0.0.15,>=0.0.14->TorToiSe==3.0.0) (0.19.3)\n",
      "Requirement already satisfied: torch in /usr/local/lib/python3.10/dist-packages (from k-diffusion<0.0.15,>=0.0.14->TorToiSe==3.0.0) (2.0.1)\n",
      "Collecting torchdiffeq (from k-diffusion<0.0.15,>=0.0.14->TorToiSe==3.0.0)\n",
      "  Downloading torchdiffeq-0.2.3-py3-none-any.whl (31 kB)\n",
      "Collecting torchsde (from k-diffusion<0.0.15,>=0.0.14->TorToiSe==3.0.0)\n",
      "  Downloading torchsde-0.2.6-py3-none-any.whl (61 kB)\n",
      "\u001b[2K     \u001b[90m━━━━━━━━━━━━━━━━━━━━━━━━━━━━━━━━━━━━━━━━\u001b[0m \u001b[32m61.2/61.2 kB\u001b[0m \u001b[31m7.6 MB/s\u001b[0m eta \u001b[36m0:00:00\u001b[0m\n",
      "\u001b[?25hRequirement already satisfied: torchvision in /usr/local/lib/python3.10/dist-packages (from k-diffusion<0.0.15,>=0.0.14->TorToiSe==3.0.0) (0.16.0+cu118)\n",
      "Collecting wandb (from k-diffusion<0.0.15,>=0.0.14->TorToiSe==3.0.0)\n",
      "  Downloading wandb-0.16.0-py3-none-any.whl (2.1 MB)\n",
      "\u001b[2K     \u001b[90m━━━━━━━━━━━━━━━━━━━━━━━━━━━━━━━━━━━━━━━━\u001b[0m \u001b[32m2.1/2.1 MB\u001b[0m \u001b[31m47.1 MB/s\u001b[0m eta \u001b[36m0:00:00\u001b[0m\n",
      "\u001b[?25hRequirement already satisfied: audioread>=2.0.0 in /usr/local/lib/python3.10/dist-packages (from librosa<0.9.0,>=0.8.1->TorToiSe==3.0.0) (3.0.1)\n",
      "Requirement already satisfied: numpy>=1.15.0 in /usr/local/lib/python3.10/dist-packages (from librosa<0.9.0,>=0.8.1->TorToiSe==3.0.0) (1.23.5)\n",
      "Requirement already satisfied: scikit-learn!=0.19.0,>=0.14.0 in /usr/local/lib/python3.10/dist-packages (from librosa<0.9.0,>=0.8.1->TorToiSe==3.0.0) (1.2.2)\n",
      "Requirement already satisfied: joblib>=0.14 in /usr/local/lib/python3.10/dist-packages (from librosa<0.9.0,>=0.8.1->TorToiSe==3.0.0) (1.3.2)\n",
      "Requirement already satisfied: decorator>=3.0.0 in /usr/local/lib/python3.10/dist-packages (from librosa<0.9.0,>=0.8.1->TorToiSe==3.0.0) (4.4.2)\n",
      "Collecting resampy>=0.2.2 (from librosa<0.9.0,>=0.8.1->TorToiSe==3.0.0)\n",
      "  Downloading resampy-0.4.2-py3-none-any.whl (3.1 MB)\n",
      "\u001b[2K     \u001b[90m━━━━━━━━━━━━━━━━━━━━━━━━━━━━━━━━━━━━━━━━\u001b[0m \u001b[32m3.1/3.1 MB\u001b[0m \u001b[31m17.5 MB/s\u001b[0m eta \u001b[36m0:00:00\u001b[0m\n",
      "\u001b[?25hRequirement already satisfied: soundfile>=0.10.2 in /usr/local/lib/python3.10/dist-packages (from librosa<0.9.0,>=0.8.1->TorToiSe==3.0.0) (0.12.1)\n",
      "Requirement already satisfied: pooch>=1.0 in /usr/local/lib/python3.10/dist-packages (from librosa<0.9.0,>=0.8.1->TorToiSe==3.0.0) (1.8.0)\n",
      "Requirement already satisfied: packaging>=20.0 in /usr/local/lib/python3.10/dist-packages (from librosa<0.9.0,>=0.8.1->TorToiSe==3.0.0) (23.2)\n",
      "Collecting llvmlite<0.40,>=0.39.0dev0 (from numba<0.57.0,>=0.56.4->TorToiSe==3.0.0)\n",
      "  Downloading llvmlite-0.39.1-cp310-cp310-manylinux_2_17_x86_64.manylinux2014_x86_64.whl (34.6 MB)\n",
      "\u001b[2K     \u001b[90m━━━━━━━━━━━━━━━━━━━━━━━━━━━━━━━━━━━━━━━━\u001b[0m \u001b[32m34.6/34.6 MB\u001b[0m \u001b[31m9.2 MB/s\u001b[0m eta \u001b[36m0:00:00\u001b[0m\n",
      "\u001b[?25hRequirement already satisfied: setuptools in /usr/local/lib/python3.10/dist-packages (from numba<0.57.0,>=0.56.4->TorToiSe==3.0.0) (67.7.2)\n",
      "Collecting docstring-parser~=0.15 (from simple-parsing<0.0.22,>=0.0.21->TorToiSe==3.0.0)\n",
      "  Downloading docstring_parser-0.15-py3-none-any.whl (36 kB)\n",
      "Requirement already satisfied: altair<6,>=4.0 in /usr/local/lib/python3.10/dist-packages (from streamlit<2.0.0,>=1.18.1->TorToiSe==3.0.0) (4.2.2)\n",
      "Requirement already satisfied: blinker<2,>=1.0.0 in /usr/lib/python3/dist-packages (from streamlit<2.0.0,>=1.18.1->TorToiSe==3.0.0) (1.4)\n",
      "Requirement already satisfied: cachetools<6,>=4.0 in /usr/local/lib/python3.10/dist-packages (from streamlit<2.0.0,>=1.18.1->TorToiSe==3.0.0) (5.3.2)\n",
      "Requirement already satisfied: click<9,>=7.0 in /usr/local/lib/python3.10/dist-packages (from streamlit<2.0.0,>=1.18.1->TorToiSe==3.0.0) (8.1.7)\n",
      "Requirement already satisfied: importlib-metadata<7,>=1.4 in /usr/local/lib/python3.10/dist-packages (from streamlit<2.0.0,>=1.18.1->TorToiSe==3.0.0) (6.8.0)\n",
      "Requirement already satisfied: pandas<3,>=1.3.0 in /usr/local/lib/python3.10/dist-packages (from streamlit<2.0.0,>=1.18.1->TorToiSe==3.0.0) (1.5.3)\n",
      "Requirement already satisfied: protobuf<5,>=3.20 in /usr/local/lib/python3.10/dist-packages (from streamlit<2.0.0,>=1.18.1->TorToiSe==3.0.0) (3.20.3)\n",
      "Requirement already satisfied: pyarrow>=6.0 in /usr/local/lib/python3.10/dist-packages (from streamlit<2.0.0,>=1.18.1->TorToiSe==3.0.0) (9.0.0)\n",
      "Requirement already satisfied: python-dateutil<3,>=2.7.3 in /usr/local/lib/python3.10/dist-packages (from streamlit<2.0.0,>=1.18.1->TorToiSe==3.0.0) (2.8.2)\n",
      "Requirement already satisfied: rich<14,>=10.14.0 in /usr/local/lib/python3.10/dist-packages (from streamlit<2.0.0,>=1.18.1->TorToiSe==3.0.0) (13.6.0)\n",
      "Requirement already satisfied: tenacity<9,>=8.1.0 in /usr/local/lib/python3.10/dist-packages (from streamlit<2.0.0,>=1.18.1->TorToiSe==3.0.0) (8.2.3)\n",
      "Requirement already satisfied: toml<2,>=0.10.1 in /usr/local/lib/python3.10/dist-packages (from streamlit<2.0.0,>=1.18.1->TorToiSe==3.0.0) (0.10.2)\n",
      "Requirement already satisfied: tzlocal<6,>=1.1 in /usr/local/lib/python3.10/dist-packages (from streamlit<2.0.0,>=1.18.1->TorToiSe==3.0.0) (5.2)\n",
      "Collecting validators<1,>=0.2 (from streamlit<2.0.0,>=1.18.1->TorToiSe==3.0.0)\n",
      "  Downloading validators-0.22.0-py3-none-any.whl (26 kB)\n",
      "Collecting gitpython!=3.1.19,<4,>=3.0.7 (from streamlit<2.0.0,>=1.18.1->TorToiSe==3.0.0)\n",
      "  Downloading GitPython-3.1.40-py3-none-any.whl (190 kB)\n",
      "\u001b[2K     \u001b[90m━━━━━━━━━━━━━━━━━━━━━━━━━━━━━━━━━━━━━━━━\u001b[0m \u001b[32m190.6/190.6 kB\u001b[0m \u001b[31m21.2 MB/s\u001b[0m eta \u001b[36m0:00:00\u001b[0m\n",
      "\u001b[?25hCollecting pydeck<1,>=0.8.0b4 (from streamlit<2.0.0,>=1.18.1->TorToiSe==3.0.0)\n",
      "  Downloading pydeck-0.8.1b0-py2.py3-none-any.whl (4.8 MB)\n",
      "\u001b[2K     \u001b[90m━━━━━━━━━━━━━━━━━━━━━━━━━━━━━━━━━━━━━━━━\u001b[0m \u001b[32m4.8/4.8 MB\u001b[0m \u001b[31m69.1 MB/s\u001b[0m eta \u001b[36m0:00:00\u001b[0m\n",
      "\u001b[?25hRequirement already satisfied: tornado<7,>=6.0.3 in /usr/local/lib/python3.10/dist-packages (from streamlit<2.0.0,>=1.18.1->TorToiSe==3.0.0) (6.3.2)\n",
      "Collecting watchdog>=2.1.5 (from streamlit<2.0.0,>=1.18.1->TorToiSe==3.0.0)\n",
      "  Downloading watchdog-3.0.0-py3-none-manylinux2014_x86_64.whl (82 kB)\n",
      "\u001b[2K     \u001b[90m━━━━━━━━━━━━━━━━━━━━━━━━━━━━━━━━━━━━━━━━\u001b[0m \u001b[32m82.1/82.1 kB\u001b[0m \u001b[31m10.8 MB/s\u001b[0m eta \u001b[36m0:00:00\u001b[0m\n",
      "\u001b[?25hCollecting torch (from k-diffusion<0.0.15,>=0.0.14->TorToiSe==3.0.0)\n",
      "  Downloading torch-1.13.1-cp310-cp310-manylinux1_x86_64.whl (887.5 MB)\n",
      "\u001b[2K     \u001b[90m━━━━━━━━━━━━━━━━━━━━━━━━━━━━━━━━━━━━━━━━\u001b[0m \u001b[32m887.5/887.5 MB\u001b[0m \u001b[31m1.3 MB/s\u001b[0m eta \u001b[36m0:00:00\u001b[0m\n",
      "\u001b[?25hRequirement already satisfied: nvidia-cuda-runtime-cu11==11.7.99 in /usr/local/lib/python3.10/dist-packages (from torch->k-diffusion<0.0.15,>=0.0.14->TorToiSe==3.0.0) (11.7.99)\n",
      "Requirement already satisfied: nvidia-cudnn-cu11==8.5.0.96 in /usr/local/lib/python3.10/dist-packages (from torch->k-diffusion<0.0.15,>=0.0.14->TorToiSe==3.0.0) (8.5.0.96)\n",
      "Requirement already satisfied: nvidia-cublas-cu11==11.10.3.66 in /usr/local/lib/python3.10/dist-packages (from torch->k-diffusion<0.0.15,>=0.0.14->TorToiSe==3.0.0) (11.10.3.66)\n",
      "Requirement already satisfied: nvidia-cuda-nvrtc-cu11==11.7.99 in /usr/local/lib/python3.10/dist-packages (from torch->k-diffusion<0.0.15,>=0.0.14->TorToiSe==3.0.0) (11.7.99)\n",
      "Requirement already satisfied: wheel in /usr/local/lib/python3.10/dist-packages (from nvidia-cublas-cu11==11.10.3.66->torch->k-diffusion<0.0.15,>=0.0.14->TorToiSe==3.0.0) (0.41.3)\n",
      "Requirement already satisfied: huggingface-hub<1.0,>=0.14.1 in /usr/local/lib/python3.10/dist-packages (from transformers<5.0.0,>=4.26.1->TorToiSe==3.0.0) (0.19.0)\n",
      "Requirement already satisfied: pyyaml>=5.1 in /usr/local/lib/python3.10/dist-packages (from transformers<5.0.0,>=4.26.1->TorToiSe==3.0.0) (6.0.1)\n",
      "Requirement already satisfied: regex!=2019.12.17 in /usr/local/lib/python3.10/dist-packages (from transformers<5.0.0,>=4.26.1->TorToiSe==3.0.0) (2023.6.3)\n",
      "Requirement already satisfied: matplotlib in /usr/local/lib/python3.10/dist-packages (from voicefixer<0.2.0,>=0.1.2->TorToiSe==3.0.0) (3.7.1)\n",
      "Collecting torchlibrosa==0.0.7 (from voicefixer<0.2.0,>=0.1.2->TorToiSe==3.0.0)\n",
      "  Downloading torchlibrosa-0.0.7-py3-none-any.whl (10 kB)\n",
      "Collecting pesq (from bigvgan@ git+https://github.com/152334H/BigVGAN.git->TorToiSe==3.0.0)\n",
      "  Downloading pesq-0.0.4.tar.gz (38 kB)\n",
      "  Preparing metadata (setup.py) ... \u001b[?25l\u001b[?25hdone\n",
      "Collecting auraloss (from bigvgan@ git+https://github.com/152334H/BigVGAN.git->TorToiSe==3.0.0)\n",
      "  Downloading auraloss-0.4.0-py3-none-any.whl (16 kB)\n",
      "Requirement already satisfied: entrypoints in /usr/local/lib/python3.10/dist-packages (from altair<6,>=4.0->streamlit<2.0.0,>=1.18.1->TorToiSe==3.0.0) (0.4)\n",
      "Requirement already satisfied: jinja2 in /usr/local/lib/python3.10/dist-packages (from altair<6,>=4.0->streamlit<2.0.0,>=1.18.1->TorToiSe==3.0.0) (3.1.2)\n",
      "Requirement already satisfied: jsonschema>=3.0 in /usr/local/lib/python3.10/dist-packages (from altair<6,>=4.0->streamlit<2.0.0,>=1.18.1->TorToiSe==3.0.0) (4.19.2)\n",
      "Requirement already satisfied: toolz in /usr/local/lib/python3.10/dist-packages (from altair<6,>=4.0->streamlit<2.0.0,>=1.18.1->TorToiSe==3.0.0) (0.12.0)\n",
      "Collecting gitdb<5,>=4.0.1 (from gitpython!=3.1.19,<4,>=3.0.7->streamlit<2.0.0,>=1.18.1->TorToiSe==3.0.0)\n",
      "  Downloading gitdb-4.0.11-py3-none-any.whl (62 kB)\n",
      "\u001b[2K     \u001b[90m━━━━━━━━━━━━━━━━━━━━━━━━━━━━━━━━━━━━━━━━\u001b[0m \u001b[32m62.7/62.7 kB\u001b[0m \u001b[31m7.6 MB/s\u001b[0m eta \u001b[36m0:00:00\u001b[0m\n",
      "\u001b[?25hRequirement already satisfied: fsspec>=2023.5.0 in /usr/local/lib/python3.10/dist-packages (from huggingface-hub<1.0,>=0.14.1->transformers<5.0.0,>=4.26.1->TorToiSe==3.0.0) (2023.6.0)\n",
      "Requirement already satisfied: zipp>=0.5 in /usr/local/lib/python3.10/dist-packages (from importlib-metadata<7,>=1.4->streamlit<2.0.0,>=1.18.1->TorToiSe==3.0.0) (3.17.0)\n",
      "Requirement already satisfied: pytz>=2020.1 in /usr/local/lib/python3.10/dist-packages (from pandas<3,>=1.3.0->streamlit<2.0.0,>=1.18.1->TorToiSe==3.0.0) (2023.3.post1)\n",
      "Requirement already satisfied: platformdirs>=2.5.0 in /usr/local/lib/python3.10/dist-packages (from pooch>=1.0->librosa<0.9.0,>=0.8.1->TorToiSe==3.0.0) (3.11.0)\n",
      "Requirement already satisfied: charset-normalizer<4,>=2 in /usr/local/lib/python3.10/dist-packages (from requests[socks]->gdown<5.0.0,>=4.6.4->TorToiSe==3.0.0) (3.3.2)\n",
      "Requirement already satisfied: idna<4,>=2.5 in /usr/local/lib/python3.10/dist-packages (from requests[socks]->gdown<5.0.0,>=4.6.4->TorToiSe==3.0.0) (3.4)\n",
      "Requirement already satisfied: urllib3<3,>=1.21.1 in /usr/local/lib/python3.10/dist-packages (from requests[socks]->gdown<5.0.0,>=4.6.4->TorToiSe==3.0.0) (2.0.7)\n",
      "Requirement already satisfied: certifi>=2017.4.17 in /usr/local/lib/python3.10/dist-packages (from requests[socks]->gdown<5.0.0,>=4.6.4->TorToiSe==3.0.0) (2023.7.22)\n",
      "Requirement already satisfied: markdown-it-py>=2.2.0 in /usr/local/lib/python3.10/dist-packages (from rich<14,>=10.14.0->streamlit<2.0.0,>=1.18.1->TorToiSe==3.0.0) (3.0.0)\n",
      "Requirement already satisfied: pygments<3.0.0,>=2.13.0 in /usr/local/lib/python3.10/dist-packages (from rich<14,>=10.14.0->streamlit<2.0.0,>=1.18.1->TorToiSe==3.0.0) (2.16.1)\n",
      "Requirement already satisfied: threadpoolctl>=2.0.0 in /usr/local/lib/python3.10/dist-packages (from scikit-learn!=0.19.0,>=0.14.0->librosa<0.9.0,>=0.8.1->TorToiSe==3.0.0) (3.2.0)\n",
      "Requirement already satisfied: cffi>=1.0 in /usr/local/lib/python3.10/dist-packages (from soundfile>=0.10.2->librosa<0.9.0,>=0.8.1->TorToiSe==3.0.0) (1.16.0)\n",
      "Requirement already satisfied: psutil in /usr/local/lib/python3.10/dist-packages (from accelerate->k-diffusion<0.0.15,>=0.0.14->TorToiSe==3.0.0) (5.9.5)\n",
      "Requirement already satisfied: soupsieve>1.2 in /usr/local/lib/python3.10/dist-packages (from beautifulsoup4->gdown<5.0.0,>=4.6.4->TorToiSe==3.0.0) (2.5)\n",
      "Collecting ftfy (from clip-anytorch->k-diffusion<0.0.15,>=0.0.14->TorToiSe==3.0.0)\n",
      "  Downloading ftfy-6.1.1-py3-none-any.whl (53 kB)\n",
      "\u001b[2K     \u001b[90m━━━━━━━━━━━━━━━━━━━━━━━━━━━━━━━━━━━━━━━━\u001b[0m \u001b[32m53.1/53.1 kB\u001b[0m \u001b[31m6.4 MB/s\u001b[0m eta \u001b[36m0:00:00\u001b[0m\n",
      "\u001b[?25hRequirement already satisfied: contourpy>=1.0.1 in /usr/local/lib/python3.10/dist-packages (from matplotlib->voicefixer<0.2.0,>=0.1.2->TorToiSe==3.0.0) (1.2.0)\n",
      "Requirement already satisfied: cycler>=0.10 in /usr/local/lib/python3.10/dist-packages (from matplotlib->voicefixer<0.2.0,>=0.1.2->TorToiSe==3.0.0) (0.12.1)\n",
      "Requirement already satisfied: fonttools>=4.22.0 in /usr/local/lib/python3.10/dist-packages (from matplotlib->voicefixer<0.2.0,>=0.1.2->TorToiSe==3.0.0) (4.44.0)\n",
      "Requirement already satisfied: kiwisolver>=1.0.1 in /usr/local/lib/python3.10/dist-packages (from matplotlib->voicefixer<0.2.0,>=0.1.2->TorToiSe==3.0.0) (1.4.5)\n",
      "Requirement already satisfied: pyparsing>=2.3.1 in /usr/local/lib/python3.10/dist-packages (from matplotlib->voicefixer<0.2.0,>=0.1.2->TorToiSe==3.0.0) (3.1.1)\n",
      "Requirement already satisfied: PySocks!=1.5.7,>=1.5.6 in /usr/local/lib/python3.10/dist-packages (from requests[socks]->gdown<5.0.0,>=4.6.4->TorToiSe==3.0.0) (1.7.1)\n",
      "Requirement already satisfied: networkx>=2.2 in /usr/local/lib/python3.10/dist-packages (from scikit-image->k-diffusion<0.0.15,>=0.0.14->TorToiSe==3.0.0) (3.2.1)\n",
      "Requirement already satisfied: imageio>=2.4.1 in /usr/local/lib/python3.10/dist-packages (from scikit-image->k-diffusion<0.0.15,>=0.0.14->TorToiSe==3.0.0) (2.31.6)\n",
      "Requirement already satisfied: tifffile>=2019.7.26 in /usr/local/lib/python3.10/dist-packages (from scikit-image->k-diffusion<0.0.15,>=0.0.14->TorToiSe==3.0.0) (2023.9.26)\n",
      "Requirement already satisfied: PyWavelets>=1.1.1 in /usr/local/lib/python3.10/dist-packages (from scikit-image->k-diffusion<0.0.15,>=0.0.14->TorToiSe==3.0.0) (1.4.1)\n",
      "Collecting trampoline>=0.1.2 (from torchsde->k-diffusion<0.0.15,>=0.0.14->TorToiSe==3.0.0)\n",
      "  Downloading trampoline-0.1.2-py3-none-any.whl (5.2 kB)\n",
      "INFO: pip is looking at multiple versions of torchvision to determine which version is compatible with other requirements. This could take a while.\n",
      "Collecting torchvision (from k-diffusion<0.0.15,>=0.0.14->TorToiSe==3.0.0)\n",
      "  Downloading torchvision-0.16.0-cp310-cp310-manylinux1_x86_64.whl (6.9 MB)\n",
      "\u001b[2K     \u001b[90m━━━━━━━━━━━━━━━━━━━━━━━━━━━━━━━━━━━━━━━━\u001b[0m \u001b[32m6.9/6.9 MB\u001b[0m \u001b[31m93.0 MB/s\u001b[0m eta \u001b[36m0:00:00\u001b[0m\n",
      "\u001b[?25h  Downloading torchvision-0.15.2-cp310-cp310-manylinux1_x86_64.whl (6.0 MB)\n",
      "\u001b[2K     \u001b[90m━━━━━━━━━━━━━━━━━━━━━━━━━━━━━━━━━━━━━━━━\u001b[0m \u001b[32m6.0/6.0 MB\u001b[0m \u001b[31m105.5 MB/s\u001b[0m eta \u001b[36m0:00:00\u001b[0m\n",
      "\u001b[?25h  Downloading torchvision-0.15.1-cp310-cp310-manylinux1_x86_64.whl (6.0 MB)\n",
      "\u001b[2K     \u001b[90m━━━━━━━━━━━━━━━━━━━━━━━━━━━━━━━━━━━━━━━━\u001b[0m \u001b[32m6.0/6.0 MB\u001b[0m \u001b[31m100.0 MB/s\u001b[0m eta \u001b[36m0:00:00\u001b[0m\n",
      "\u001b[?25h  Downloading torchvision-0.14.1-cp310-cp310-manylinux1_x86_64.whl (24.2 MB)\n",
      "\u001b[2K     \u001b[90m━━━━━━━━━━━━━━━━━━━━━━━━━━━━━━━━━━━━━━━━\u001b[0m \u001b[32m24.2/24.2 MB\u001b[0m \u001b[31m56.2 MB/s\u001b[0m eta \u001b[36m0:00:00\u001b[0m\n",
      "\u001b[?25hCollecting sentry-sdk>=1.0.0 (from wandb->k-diffusion<0.0.15,>=0.0.14->TorToiSe==3.0.0)\n",
      "  Downloading sentry_sdk-1.34.0-py2.py3-none-any.whl (243 kB)\n",
      "\u001b[2K     \u001b[90m━━━━━━━━━━━━━━━━━━━━━━━━━━━━━━━━━━━━━━━━\u001b[0m \u001b[32m243.9/243.9 kB\u001b[0m \u001b[31m26.1 MB/s\u001b[0m eta \u001b[36m0:00:00\u001b[0m\n",
      "\u001b[?25hCollecting docker-pycreds>=0.4.0 (from wandb->k-diffusion<0.0.15,>=0.0.14->TorToiSe==3.0.0)\n",
      "  Downloading docker_pycreds-0.4.0-py2.py3-none-any.whl (9.0 kB)\n",
      "Collecting setproctitle (from wandb->k-diffusion<0.0.15,>=0.0.14->TorToiSe==3.0.0)\n",
      "  Downloading setproctitle-1.3.3-cp310-cp310-manylinux_2_5_x86_64.manylinux1_x86_64.manylinux_2_17_x86_64.manylinux2014_x86_64.whl (30 kB)\n",
      "Requirement already satisfied: appdirs>=1.4.3 in /usr/local/lib/python3.10/dist-packages (from wandb->k-diffusion<0.0.15,>=0.0.14->TorToiSe==3.0.0) (1.4.4)\n",
      "Requirement already satisfied: pycparser in /usr/local/lib/python3.10/dist-packages (from cffi>=1.0->soundfile>=0.10.2->librosa<0.9.0,>=0.8.1->TorToiSe==3.0.0) (2.21)\n",
      "Collecting smmap<6,>=3.0.1 (from gitdb<5,>=4.0.1->gitpython!=3.1.19,<4,>=3.0.7->streamlit<2.0.0,>=1.18.1->TorToiSe==3.0.0)\n",
      "  Downloading smmap-5.0.1-py3-none-any.whl (24 kB)\n",
      "Requirement already satisfied: MarkupSafe>=2.0 in /usr/local/lib/python3.10/dist-packages (from jinja2->altair<6,>=4.0->streamlit<2.0.0,>=1.18.1->TorToiSe==3.0.0) (2.1.3)\n",
      "Requirement already satisfied: attrs>=22.2.0 in /usr/local/lib/python3.10/dist-packages (from jsonschema>=3.0->altair<6,>=4.0->streamlit<2.0.0,>=1.18.1->TorToiSe==3.0.0) (23.1.0)\n",
      "Requirement already satisfied: jsonschema-specifications>=2023.03.6 in /usr/local/lib/python3.10/dist-packages (from jsonschema>=3.0->altair<6,>=4.0->streamlit<2.0.0,>=1.18.1->TorToiSe==3.0.0) (2023.7.1)\n",
      "Requirement already satisfied: referencing>=0.28.4 in /usr/local/lib/python3.10/dist-packages (from jsonschema>=3.0->altair<6,>=4.0->streamlit<2.0.0,>=1.18.1->TorToiSe==3.0.0) (0.30.2)\n",
      "Requirement already satisfied: rpds-py>=0.7.1 in /usr/local/lib/python3.10/dist-packages (from jsonschema>=3.0->altair<6,>=4.0->streamlit<2.0.0,>=1.18.1->TorToiSe==3.0.0) (0.11.0)\n",
      "Requirement already satisfied: mdurl~=0.1 in /usr/local/lib/python3.10/dist-packages (from markdown-it-py>=2.2.0->rich<14,>=10.14.0->streamlit<2.0.0,>=1.18.1->TorToiSe==3.0.0) (0.1.2)\n",
      "Requirement already satisfied: wcwidth>=0.2.5 in /usr/local/lib/python3.10/dist-packages (from ftfy->clip-anytorch->k-diffusion<0.0.15,>=0.0.14->TorToiSe==3.0.0) (0.2.9)\n",
      "Building wheels for collected packages: TorToiSe, progressbar, bigvgan, pesq\n",
      "  Building editable for TorToiSe (pyproject.toml) ... \u001b[?25l\u001b[?25hdone\n",
      "  Created wheel for TorToiSe: filename=tortoise-3.0.0-py3-none-any.whl size=17738 sha256=b50372ef7f8cd867bf87a21144ab1d7e81cb2094a0329852497b8632d2e98f80\n",
      "  Stored in directory: /tmp/pip-ephem-wheel-cache-40uis7si/wheels/fd/6b/11/7b37c92dcc7968f5e9c79e22c050ceb8f72878c7d6c64fd27f\n",
      "  Building wheel for progressbar (setup.py) ... \u001b[?25l\u001b[?25hdone\n",
      "  Created wheel for progressbar: filename=progressbar-2.5-py3-none-any.whl size=12067 sha256=77be48cd4e35f6f007df7b53528ba7c5ed76e3281a5fc914fe0e49addf65be15\n",
      "  Stored in directory: /root/.cache/pip/wheels/cd/17/e5/765d1a3112ff3978f70223502f6047e06c43a24d7c5f8ff95b\n",
      "  Building wheel for bigvgan (setup.py) ... \u001b[?25l\u001b[?25hdone\n",
      "  Created wheel for bigvgan: filename=BigVGAN-0.0.1-py3-none-any.whl size=22468 sha256=8a4ab64fe4a7b0ae046bc92e9b842efcc01418c9d97e9ed17b68883d16852add\n",
      "  Stored in directory: /tmp/pip-ephem-wheel-cache-40uis7si/wheels/58/7a/0e/1d594eb3c7e5058ab33733187d8b1b26778585b9b165e1ef54\n",
      "  Building wheel for pesq (setup.py) ... \u001b[?25l\u001b[?25hdone\n",
      "  Created wheel for pesq: filename=pesq-0.0.4-cp310-cp310-linux_x86_64.whl size=262921 sha256=cf0a94f9f74eee039c9c0d1da121be074c1924805d82544596ee2eed627e1d48\n",
      "  Stored in directory: /root/.cache/pip/wheels/c5/4e/2c/251524370c0fdd659e99639a0fbd0ca5a782c3aafcd456b28d\n",
      "Successfully built TorToiSe progressbar bigvgan pesq\n",
      "Installing collected packages: trampoline, resize-right, progressbar, pesq, watchdog, validators, Unidecode, torchlibrosa, smmap, setproctitle, sentry-sdk, llvmlite, ftfy, einops, docstring-parser, docker-pycreds, simple-parsing, pydeck, numba, inflect, gitdb, torch, resampy, gitpython, wandb, torchvision, torchsde, torchdiffeq, torchaudio, rotary-embedding-torch, librosa, kornia, jsonmerge, auraloss, accelerate, streamlit, clip-anytorch, clean-fid, bigvgan, voicefixer, k-diffusion, TorToiSe\n",
      "  Attempting uninstall: llvmlite\n",
      "    Found existing installation: llvmlite 0.41.1\n",
      "    Uninstalling llvmlite-0.41.1:\n",
      "      Successfully uninstalled llvmlite-0.41.1\n",
      "  Attempting uninstall: numba\n",
      "    Found existing installation: numba 0.58.1\n",
      "    Uninstalling numba-0.58.1:\n",
      "      Successfully uninstalled numba-0.58.1\n",
      "  Attempting uninstall: inflect\n",
      "    Found existing installation: inflect 7.0.0\n",
      "    Uninstalling inflect-7.0.0:\n",
      "      Successfully uninstalled inflect-7.0.0\n",
      "  Attempting uninstall: torch\n",
      "    Found existing installation: torch 2.0.1\n",
      "    Uninstalling torch-2.0.1:\n",
      "      Successfully uninstalled torch-2.0.1\n",
      "  Attempting uninstall: torchvision\n",
      "    Found existing installation: torchvision 0.16.0+cu118\n",
      "    Uninstalling torchvision-0.16.0+cu118:\n",
      "      Successfully uninstalled torchvision-0.16.0+cu118\n",
      "  Attempting uninstall: torchaudio\n",
      "    Found existing installation: torchaudio 2.1.0+cu118\n",
      "    Uninstalling torchaudio-2.1.0+cu118:\n",
      "      Successfully uninstalled torchaudio-2.1.0+cu118\n",
      "  Attempting uninstall: librosa\n",
      "    Found existing installation: librosa 0.10.1\n",
      "    Uninstalling librosa-0.10.1:\n",
      "      Successfully uninstalled librosa-0.10.1\n",
      "\u001b[31mERROR: pip's dependency resolver does not currently take into account all the packages that are installed. This behaviour is the source of the following dependency conflicts.\n",
      "torchdata 0.7.0 requires torch==2.1.0, but you have torch 1.13.1 which is incompatible.\n",
      "torchtext 0.16.0 requires torch==2.1.0, but you have torch 1.13.1 which is incompatible.\u001b[0m\u001b[31m\n",
      "\u001b[0mSuccessfully installed TorToiSe-3.0.0 Unidecode-1.3.7 accelerate-0.24.1 auraloss-0.4.0 bigvgan-0.0.1 clean-fid-0.1.35 clip-anytorch-2.5.2 docker-pycreds-0.4.0 docstring-parser-0.15 einops-0.6.1 ftfy-6.1.1 gitdb-4.0.11 gitpython-3.1.40 inflect-6.2.0 jsonmerge-1.9.2 k-diffusion-0.0.14 kornia-0.7.0 librosa-0.8.1 llvmlite-0.39.1 numba-0.56.4 pesq-0.0.4 progressbar-2.5 pydeck-0.8.1b0 resampy-0.4.2 resize-right-0.0.2 rotary-embedding-torch-0.2.7 sentry-sdk-1.34.0 setproctitle-1.3.3 simple-parsing-0.0.21.post1 smmap-5.0.1 streamlit-1.28.1 torch-1.13.1 torchaudio-0.13.1 torchdiffeq-0.2.3 torchlibrosa-0.0.7 torchsde-0.2.6 torchvision-0.14.1 trampoline-0.1.2 validators-0.22.0 voicefixer-0.1.2 wandb-0.16.0 watchdog-3.0.0\n"
     ]
    },
    {
     "data": {
      "application/vnd.colab-display-data+json": {
       "pip_warning": {
        "packages": [
         "llvmlite",
         "numba",
         "torch"
        ]
       }
      }
     },
     "metadata": {},
     "output_type": "display_data"
    },
    {
     "name": "stdout",
     "output_type": "stream",
     "text": [
      "Collecting git+https://github.com/152334H/BigVGAN.git\n",
      "  Cloning https://github.com/152334H/BigVGAN.git to /tmp/pip-req-build-mj0hrhn1\n",
      "  Running command git clone --filter=blob:none --quiet https://github.com/152334H/BigVGAN.git /tmp/pip-req-build-mj0hrhn1\n",
      "  Resolved https://github.com/152334H/BigVGAN.git to commit b10aaeea6ff7e5704d4f8198071cf9a4c174e78a\n",
      "  Preparing metadata (setup.py) ... \u001b[?25l\u001b[?25hdone\n",
      "Requirement already satisfied: torch in /usr/local/lib/python3.10/dist-packages (from BigVGAN==0.0.1) (1.13.1)\n",
      "Requirement already satisfied: numpy in /usr/local/lib/python3.10/dist-packages (from BigVGAN==0.0.1) (1.23.5)\n",
      "Requirement already satisfied: librosa==0.8.1 in /usr/local/lib/python3.10/dist-packages (from BigVGAN==0.0.1) (0.8.1)\n",
      "Requirement already satisfied: scipy in /usr/local/lib/python3.10/dist-packages (from BigVGAN==0.0.1) (1.11.3)\n",
      "Requirement already satisfied: soundfile in /usr/local/lib/python3.10/dist-packages (from BigVGAN==0.0.1) (0.12.1)\n",
      "Requirement already satisfied: matplotlib in /usr/local/lib/python3.10/dist-packages (from BigVGAN==0.0.1) (3.7.1)\n",
      "Requirement already satisfied: pesq in /usr/local/lib/python3.10/dist-packages (from BigVGAN==0.0.1) (0.0.4)\n",
      "Requirement already satisfied: auraloss in /usr/local/lib/python3.10/dist-packages (from BigVGAN==0.0.1) (0.4.0)\n",
      "Requirement already satisfied: tqdm in /usr/local/lib/python3.10/dist-packages (from BigVGAN==0.0.1) (4.66.1)\n",
      "Requirement already satisfied: audioread>=2.0.0 in /usr/local/lib/python3.10/dist-packages (from librosa==0.8.1->BigVGAN==0.0.1) (3.0.1)\n",
      "Requirement already satisfied: scikit-learn!=0.19.0,>=0.14.0 in /usr/local/lib/python3.10/dist-packages (from librosa==0.8.1->BigVGAN==0.0.1) (1.2.2)\n",
      "Requirement already satisfied: joblib>=0.14 in /usr/local/lib/python3.10/dist-packages (from librosa==0.8.1->BigVGAN==0.0.1) (1.3.2)\n",
      "Requirement already satisfied: decorator>=3.0.0 in /usr/local/lib/python3.10/dist-packages (from librosa==0.8.1->BigVGAN==0.0.1) (4.4.2)\n",
      "Requirement already satisfied: resampy>=0.2.2 in /usr/local/lib/python3.10/dist-packages (from librosa==0.8.1->BigVGAN==0.0.1) (0.4.2)\n",
      "Requirement already satisfied: numba>=0.43.0 in /usr/local/lib/python3.10/dist-packages (from librosa==0.8.1->BigVGAN==0.0.1) (0.56.4)\n",
      "Requirement already satisfied: pooch>=1.0 in /usr/local/lib/python3.10/dist-packages (from librosa==0.8.1->BigVGAN==0.0.1) (1.8.0)\n",
      "Requirement already satisfied: packaging>=20.0 in /usr/local/lib/python3.10/dist-packages (from librosa==0.8.1->BigVGAN==0.0.1) (23.2)\n",
      "Requirement already satisfied: cffi>=1.0 in /usr/local/lib/python3.10/dist-packages (from soundfile->BigVGAN==0.0.1) (1.16.0)\n",
      "Requirement already satisfied: contourpy>=1.0.1 in /usr/local/lib/python3.10/dist-packages (from matplotlib->BigVGAN==0.0.1) (1.2.0)\n",
      "Requirement already satisfied: cycler>=0.10 in /usr/local/lib/python3.10/dist-packages (from matplotlib->BigVGAN==0.0.1) (0.12.1)\n",
      "Requirement already satisfied: fonttools>=4.22.0 in /usr/local/lib/python3.10/dist-packages (from matplotlib->BigVGAN==0.0.1) (4.44.0)\n",
      "Requirement already satisfied: kiwisolver>=1.0.1 in /usr/local/lib/python3.10/dist-packages (from matplotlib->BigVGAN==0.0.1) (1.4.5)\n",
      "Requirement already satisfied: pillow>=6.2.0 in /usr/local/lib/python3.10/dist-packages (from matplotlib->BigVGAN==0.0.1) (9.4.0)\n",
      "Requirement already satisfied: pyparsing>=2.3.1 in /usr/local/lib/python3.10/dist-packages (from matplotlib->BigVGAN==0.0.1) (3.1.1)\n",
      "Requirement already satisfied: python-dateutil>=2.7 in /usr/local/lib/python3.10/dist-packages (from matplotlib->BigVGAN==0.0.1) (2.8.2)\n",
      "Requirement already satisfied: typing-extensions in /usr/local/lib/python3.10/dist-packages (from torch->BigVGAN==0.0.1) (4.5.0)\n",
      "Requirement already satisfied: nvidia-cuda-runtime-cu11==11.7.99 in /usr/local/lib/python3.10/dist-packages (from torch->BigVGAN==0.0.1) (11.7.99)\n",
      "Requirement already satisfied: nvidia-cudnn-cu11==8.5.0.96 in /usr/local/lib/python3.10/dist-packages (from torch->BigVGAN==0.0.1) (8.5.0.96)\n",
      "Requirement already satisfied: nvidia-cublas-cu11==11.10.3.66 in /usr/local/lib/python3.10/dist-packages (from torch->BigVGAN==0.0.1) (11.10.3.66)\n",
      "Requirement already satisfied: nvidia-cuda-nvrtc-cu11==11.7.99 in /usr/local/lib/python3.10/dist-packages (from torch->BigVGAN==0.0.1) (11.7.99)\n",
      "Requirement already satisfied: setuptools in /usr/local/lib/python3.10/dist-packages (from nvidia-cublas-cu11==11.10.3.66->torch->BigVGAN==0.0.1) (67.7.2)\n",
      "Requirement already satisfied: wheel in /usr/local/lib/python3.10/dist-packages (from nvidia-cublas-cu11==11.10.3.66->torch->BigVGAN==0.0.1) (0.41.3)\n",
      "Requirement already satisfied: pycparser in /usr/local/lib/python3.10/dist-packages (from cffi>=1.0->soundfile->BigVGAN==0.0.1) (2.21)\n",
      "Requirement already satisfied: llvmlite<0.40,>=0.39.0dev0 in /usr/local/lib/python3.10/dist-packages (from numba>=0.43.0->librosa==0.8.1->BigVGAN==0.0.1) (0.39.1)\n",
      "Requirement already satisfied: platformdirs>=2.5.0 in /usr/local/lib/python3.10/dist-packages (from pooch>=1.0->librosa==0.8.1->BigVGAN==0.0.1) (3.11.0)\n",
      "Requirement already satisfied: requests>=2.19.0 in /usr/local/lib/python3.10/dist-packages (from pooch>=1.0->librosa==0.8.1->BigVGAN==0.0.1) (2.31.0)\n",
      "Requirement already satisfied: six>=1.5 in /usr/local/lib/python3.10/dist-packages (from python-dateutil>=2.7->matplotlib->BigVGAN==0.0.1) (1.16.0)\n",
      "Requirement already satisfied: threadpoolctl>=2.0.0 in /usr/local/lib/python3.10/dist-packages (from scikit-learn!=0.19.0,>=0.14.0->librosa==0.8.1->BigVGAN==0.0.1) (3.2.0)\n",
      "Requirement already satisfied: charset-normalizer<4,>=2 in /usr/local/lib/python3.10/dist-packages (from requests>=2.19.0->pooch>=1.0->librosa==0.8.1->BigVGAN==0.0.1) (3.3.2)\n",
      "Requirement already satisfied: idna<4,>=2.5 in /usr/local/lib/python3.10/dist-packages (from requests>=2.19.0->pooch>=1.0->librosa==0.8.1->BigVGAN==0.0.1) (3.4)\n",
      "Requirement already satisfied: urllib3<3,>=1.21.1 in /usr/local/lib/python3.10/dist-packages (from requests>=2.19.0->pooch>=1.0->librosa==0.8.1->BigVGAN==0.0.1) (2.0.7)\n",
      "Requirement already satisfied: certifi>=2017.4.17 in /usr/local/lib/python3.10/dist-packages (from requests>=2.19.0->pooch>=1.0->librosa==0.8.1->BigVGAN==0.0.1) (2023.7.22)\n"
     ]
    }
   ],
   "source": [
    "# !pip install tortoise\n",
    "!git clone https://github.com/152334H/tortoise-tts-fast\n",
    "!pip install git+https://github.com/openai/whisper.git\n",
    "!sudo apt update && sudo apt install ffmpeg\n",
    "!pip install transformers==4.29.2\n",
    "%cd tortoise-tts-fast\n",
    "!pip3 install -r requirements.txt --no-deps\n",
    "!pip3 install -e .\n",
    "!pip3 install git+https://github.com/152334H/BigVGAN.git"
   ]
  },
  {
   "cell_type": "code",
   "execution_count": 3,
   "id": "5bd7b8f2",
   "metadata": {},
   "outputs": [
    {
     "name": "stdout",
     "output_type": "stream",
     "text": [
      "Collecting whisper\n",
      "  Downloading whisper-1.1.10.tar.gz (42 kB)\n",
      "     ---------------------------------------- 0.0/42.8 kB ? eta -:--:--\n",
      "     --------------------------- ---------- 30.7/42.8 kB 660.6 kB/s eta 0:00:01\n",
      "     --------------------------- ---------- 30.7/42.8 kB 660.6 kB/s eta 0:00:01\n",
      "     --------------------------- ---------- 30.7/42.8 kB 660.6 kB/s eta 0:00:01\n",
      "     --------------------------- ---------- 30.7/42.8 kB 660.6 kB/s eta 0:00:01\n",
      "     --------------------------- ---------- 30.7/42.8 kB 660.6 kB/s eta 0:00:01\n",
      "     --------------------------- ---------- 30.7/42.8 kB 660.6 kB/s eta 0:00:01\n",
      "     --------------------------- ---------- 30.7/42.8 kB 660.6 kB/s eta 0:00:01\n",
      "     --------------------------- ---------- 30.7/42.8 kB 660.6 kB/s eta 0:00:01\n",
      "     --------------------------- ---------- 30.7/42.8 kB 660.6 kB/s eta 0:00:01\n",
      "     --------------------------- ---------- 30.7/42.8 kB 660.6 kB/s eta 0:00:01\n",
      "     --------------------------- ---------- 30.7/42.8 kB 660.6 kB/s eta 0:00:01\n",
      "     --------------------------- ---------- 30.7/42.8 kB 660.6 kB/s eta 0:00:01\n",
      "     ------------------------------------- - 41.0/42.8 kB 59.6 kB/s eta 0:00:01\n",
      "     ------------------------------------- - 41.0/42.8 kB 59.6 kB/s eta 0:00:01\n",
      "     ------------------------------------- - 41.0/42.8 kB 59.6 kB/s eta 0:00:01\n",
      "     ------------------------------------- - 41.0/42.8 kB 59.6 kB/s eta 0:00:01\n",
      "     ------------------------------------- - 41.0/42.8 kB 59.6 kB/s eta 0:00:01\n",
      "     ------------------------------------- - 41.0/42.8 kB 59.6 kB/s eta 0:00:01\n",
      "     ------------------------------------- - 41.0/42.8 kB 59.6 kB/s eta 0:00:01\n",
      "     ------------------------------------- - 41.0/42.8 kB 59.6 kB/s eta 0:00:01\n",
      "     ------------------------------------- - 41.0/42.8 kB 59.6 kB/s eta 0:00:01\n",
      "     ------------------------------------- - 41.0/42.8 kB 59.6 kB/s eta 0:00:01\n",
      "     ------------------------------------- - 41.0/42.8 kB 59.6 kB/s eta 0:00:01\n",
      "     ------------------------------------- - 41.0/42.8 kB 59.6 kB/s eta 0:00:01\n",
      "     ------------------------------------- - 41.0/42.8 kB 59.6 kB/s eta 0:00:01\n",
      "     ------------------------------------- - 41.0/42.8 kB 59.6 kB/s eta 0:00:01\n",
      "     ------------------------------------- - 41.0/42.8 kB 59.6 kB/s eta 0:00:01\n",
      "     ------------------------------------- - 41.0/42.8 kB 59.6 kB/s eta 0:00:01\n",
      "     ------------------------------------- - 41.0/42.8 kB 59.6 kB/s eta 0:00:01\n",
      "     ------------------------------------- - 41.0/42.8 kB 59.6 kB/s eta 0:00:01\n",
      "     ------------------------------------- - 41.0/42.8 kB 59.6 kB/s eta 0:00:01\n",
      "     ------------------------------------- - 41.0/42.8 kB 59.6 kB/s eta 0:00:01\n",
      "     --------------------------------------- 42.8/42.8 kB 24.3 kB/s eta 0:00:00\n",
      "  Preparing metadata (setup.py): started\n",
      "  Preparing metadata (setup.py): finished with status 'done'\n",
      "Requirement already satisfied: six in c:\\users\\alpha\\appdata\\roaming\\python\\python311\\site-packages (from whisper) (1.16.0)\n",
      "Building wheels for collected packages: whisper\n",
      "  Building wheel for whisper (setup.py): started\n",
      "  Building wheel for whisper (setup.py): finished with status 'done'\n",
      "  Created wheel for whisper: filename=whisper-1.1.10-py3-none-any.whl size=41393 sha256=8ff861e8386bb78b5632fdf75f56e910542a8195ea846664fb8d15e2080f59e2\n",
      "  Stored in directory: c:\\users\\alpha\\appdata\\local\\pip\\cache\\wheels\\21\\65\\ee\\4e6672aabfa486d3341a39a04f8f87c77e5156149299b5a7d0\n",
      "Successfully built whisper\n",
      "Installing collected packages: whisper\n",
      "Successfully installed whisper-1.1.10\n"
     ]
    }
   ],
   "source": [
    "!pip install whisper\n"
   ]
  },
  {
   "cell_type": "code",
   "execution_count": 8,
   "id": "a4c77061",
   "metadata": {
    "id": "a4c77061"
   },
   "outputs": [
    {
     "ename": "TypeError",
     "evalue": "argument of type 'NoneType' is not iterable",
     "output_type": "error",
     "traceback": [
      "\u001b[1;31m---------------------------------------------------------------------------\u001b[0m",
      "\u001b[1;31mTypeError\u001b[0m                                 Traceback (most recent call last)",
      "Cell \u001b[1;32mIn[8], line 1\u001b[0m\n\u001b[1;32m----> 1\u001b[0m \u001b[38;5;28;01mimport\u001b[39;00m \u001b[38;5;21;01mwhisper\u001b[39;00m\n\u001b[0;32m      3\u001b[0m \u001b[38;5;66;03m# !pip install ffmpeg-python\u001b[39;00m\n\u001b[0;32m      4\u001b[0m \u001b[38;5;66;03m# !pip install git+https://github.com/openai/whisper.git\u001b[39;00m\n\u001b[0;32m      5\u001b[0m \u001b[38;5;66;03m# # import tortoise\u001b[39;00m\n\u001b[0;32m      6\u001b[0m \u001b[38;5;66;03m# import IPython\u001b[39;00m\n\u001b[0;32m      7\u001b[0m \u001b[38;5;66;03m# # import torchaudio\u001b[39;00m\n\u001b[0;32m      8\u001b[0m \u001b[38;5;66;03m# !pip install whisper\u001b[39;00m\n",
      "File \u001b[1;32m~\\anaconda3\\Lib\\site-packages\\whisper.py:69\u001b[0m\n\u001b[0;32m     67\u001b[0m \u001b[38;5;28;01mif\u001b[39;00m CAN_FALLOCATE:\n\u001b[0;32m     68\u001b[0m   libc_name \u001b[38;5;241m=\u001b[39m ctypes\u001b[38;5;241m.\u001b[39mutil\u001b[38;5;241m.\u001b[39mfind_library(\u001b[38;5;124m'\u001b[39m\u001b[38;5;124mc\u001b[39m\u001b[38;5;124m'\u001b[39m)\n\u001b[1;32m---> 69\u001b[0m   libc \u001b[38;5;241m=\u001b[39m \u001b[43mctypes\u001b[49m\u001b[38;5;241;43m.\u001b[39;49m\u001b[43mCDLL\u001b[49m\u001b[43m(\u001b[49m\u001b[43mlibc_name\u001b[49m\u001b[43m)\u001b[49m\n\u001b[0;32m     70\u001b[0m   c_off64_t \u001b[38;5;241m=\u001b[39m ctypes\u001b[38;5;241m.\u001b[39mc_int64\n\u001b[0;32m     71\u001b[0m   c_off_t \u001b[38;5;241m=\u001b[39m ctypes\u001b[38;5;241m.\u001b[39mc_int\n",
      "File \u001b[1;32m~\\anaconda3\\Lib\\ctypes\\__init__.py:366\u001b[0m, in \u001b[0;36mCDLL.__init__\u001b[1;34m(self, name, mode, handle, use_errno, use_last_error, winmode)\u001b[0m\n\u001b[0;32m    364\u001b[0m \u001b[38;5;28;01mimport\u001b[39;00m \u001b[38;5;21;01mnt\u001b[39;00m\n\u001b[0;32m    365\u001b[0m mode \u001b[38;5;241m=\u001b[39m nt\u001b[38;5;241m.\u001b[39m_LOAD_LIBRARY_SEARCH_DEFAULT_DIRS\n\u001b[1;32m--> 366\u001b[0m \u001b[38;5;28;01mif\u001b[39;00m \u001b[38;5;124;43m'\u001b[39;49m\u001b[38;5;124;43m/\u001b[39;49m\u001b[38;5;124;43m'\u001b[39;49m\u001b[43m \u001b[49m\u001b[38;5;129;43;01min\u001b[39;49;00m\u001b[43m \u001b[49m\u001b[43mname\u001b[49m \u001b[38;5;129;01mor\u001b[39;00m \u001b[38;5;124m'\u001b[39m\u001b[38;5;130;01m\\\\\u001b[39;00m\u001b[38;5;124m'\u001b[39m \u001b[38;5;129;01min\u001b[39;00m name:\n\u001b[0;32m    367\u001b[0m     \u001b[38;5;28mself\u001b[39m\u001b[38;5;241m.\u001b[39m_name \u001b[38;5;241m=\u001b[39m nt\u001b[38;5;241m.\u001b[39m_getfullpathname(\u001b[38;5;28mself\u001b[39m\u001b[38;5;241m.\u001b[39m_name)\n\u001b[0;32m    368\u001b[0m     mode \u001b[38;5;241m|\u001b[39m\u001b[38;5;241m=\u001b[39m nt\u001b[38;5;241m.\u001b[39m_LOAD_LIBRARY_SEARCH_DLL_LOAD_DIR\n",
      "\u001b[1;31mTypeError\u001b[0m: argument of type 'NoneType' is not iterable"
     ]
    }
   ],
   "source": [
    "import whisper\n",
    "\n",
    "# !pip install ffmpeg-python\n",
    "# !pip install git+https://github.com/openai/whisper.git\n",
    "# # import tortoise\n",
    "# import IPython\n",
    "# # import torchaudio\n",
    "# !pip install whisper"
   ]
  },
  {
   "cell_type": "code",
   "execution_count": 4,
   "id": "Ve4dlHYVtE1a",
   "metadata": {
    "colab": {
     "base_uri": "https://localhost:8080/"
    },
    "id": "Ve4dlHYVtE1a",
    "outputId": "34719fc7-2d71-4881-b6b3-2884c15318f0"
   },
   "outputs": [
    {
     "name": "stderr",
     "output_type": "stream",
     "text": [
      "/usr/local/lib/python3.10/dist-packages/whisper/transcribe.py:115: UserWarning: FP16 is not supported on CPU; using FP32 instead\n",
      "  warnings.warn(\"FP16 is not supported on CPU; using FP32 instead\")\n"
     ]
    }
   ],
   "source": [
    "model = load_model(\"base\")\n",
    "res = model.transcribe('/content/Q3.wav')\n",
    "audtotext = res['text']"
   ]
  },
  {
   "cell_type": "code",
   "execution_count": 5,
   "id": "sGKsUi20tWV1",
   "metadata": {
    "colab": {
     "base_uri": "https://localhost:8080/",
     "height": 70
    },
    "id": "sGKsUi20tWV1",
    "outputId": "bd369020-8fb2-489e-ffb0-d545bce4c7fe"
   },
   "outputs": [
    {
     "data": {
      "application/vnd.google.colaboratory.intrinsic+json": {
       "type": "string"
      },
      "text/plain": [
       "' For this task, use whisper inference to generate text from the audio file. Use any translation library to translate the text into another language, and then utilize a TTS system to produce audio from the translated text.'"
      ]
     },
     "execution_count": 5,
     "metadata": {},
     "output_type": "execute_result"
    }
   ],
   "source": [
    "audtotext"
   ]
  },
  {
   "cell_type": "code",
   "execution_count": 6,
   "id": "SeJcxmUMH0Bj",
   "metadata": {
    "id": "SeJcxmUMH0Bj"
   },
   "outputs": [],
   "source": [
    "# !pip install googletrans==3.1.0a0\n"
   ]
  },
  {
   "cell_type": "code",
   "execution_count": 7,
   "id": "yuZ5wvV1IZxy",
   "metadata": {
    "id": "yuZ5wvV1IZxy"
   },
   "outputs": [],
   "source": [
    "from googletrans import Translator\n"
   ]
  },
  {
   "cell_type": "code",
   "execution_count": 8,
   "id": "qOA0R5pcIrsn",
   "metadata": {
    "colab": {
     "base_uri": "https://localhost:8080/"
    },
    "id": "qOA0R5pcIrsn",
    "outputId": "383c7b8c-7ba7-4a8c-9653-472afd262478"
   },
   "outputs": [
    {
     "name": "stdout",
     "output_type": "stream",
     "text": [
      "اس کام کے لیے، آڈیو فائل سے متن بنانے کے لیے وسپر انفرنس کا استعمال کریں۔ متن کا دوسری زبان میں ترجمہ کرنے کے لیے کسی بھی ترجمہ لائبریری کا استعمال کریں، اور پھر ترجمہ شدہ متن سے آڈیو بنانے کے لیے TTS سسٹم کا استعمال کریں۔\n"
     ]
    }
   ],
   "source": [
    "mod = Translator()\n",
    "texttrans = mod.translate(audtotext,'ur')\n",
    "print(texttrans.text)\n",
    "urdu_text = texttrans.text"
   ]
  },
  {
   "cell_type": "code",
   "execution_count": 15,
   "id": "vpjRVFr6KKeW",
   "metadata": {
    "id": "vpjRVFr6KKeW"
   },
   "outputs": [],
   "source": [
    "import IPython\n",
    "import torchaudio\n",
    "from tortoise.api import TextToSpeech\n",
    "# import gTTS"
   ]
  },
  {
   "cell_type": "code",
   "execution_count": 16,
   "id": "WxuoNuZjS4cf",
   "metadata": {
    "id": "WxuoNuZjS4cf"
   },
   "outputs": [],
   "source": [
    "# !pip install\n",
    "from gtts import gTTS"
   ]
  },
  {
   "cell_type": "code",
   "execution_count": 24,
   "id": "oEFHmWWeKahn",
   "metadata": {
    "id": "oEFHmWWeKahn"
   },
   "outputs": [],
   "source": [
    "tts = gTTS(urdu_text, lang = \"ur\",slow=False)\n",
    "tts.save('audfileurdu.mp3')"
   ]
  },
  {
   "cell_type": "code",
   "execution_count": null,
   "id": "VcHXJ1WoTiah",
   "metadata": {
    "id": "VcHXJ1WoTiah"
   },
   "outputs": [],
   "source": []
  },
  {
   "cell_type": "code",
   "execution_count": 11,
   "id": "oFxO-BeBKiVa",
   "metadata": {
    "id": "oFxO-BeBKiVa"
   },
   "outputs": [],
   "source": [
    "preset = \"fast\""
   ]
  },
  {
   "cell_type": "code",
   "execution_count": 1,
   "id": "SlwVT6j9Kr5j",
   "metadata": {
    "colab": {
     "base_uri": "https://localhost:8080/",
     "height": 442
    },
    "id": "SlwVT6j9Kr5j",
    "outputId": "a7c7ee8a-f974-4116-a7e1-c00db7195e84"
   },
   "outputs": [],
   "source": [
    "# gen = tts.tts_with_preset(urdu_text, voice_samples=None, conditioning_latents=None, preset=preset)\n",
    "# torchaudio.save('generated.wav', gen.squeeze(0).cpu(), 24000)\n",
    "# IPython.display.Audio('generated.wav')"
   ]
  }
 ],
 "metadata": {
  "colab": {
   "provenance": []
  },
  "kernelspec": {
   "display_name": "Python 3 (ipykernel)",
   "language": "python",
   "name": "python3"
  },
  "language_info": {
   "codemirror_mode": {
    "name": "ipython",
    "version": 3
   },
   "file_extension": ".py",
   "mimetype": "text/x-python",
   "name": "python",
   "nbconvert_exporter": "python",
   "pygments_lexer": "ipython3",
   "version": "3.11.4"
  }
 },
 "nbformat": 4,
 "nbformat_minor": 5
}
