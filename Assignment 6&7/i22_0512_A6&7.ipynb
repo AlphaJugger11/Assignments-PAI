{
 "cells": [
  {
   "cell_type": "code",
   "execution_count": 1,
   "id": "005dd1d6",
   "metadata": {},
   "outputs": [],
   "source": [
    "import  pandas as pd \n",
    "import numpy as np\n",
    "from time import sleep \n",
    "import warnings\n",
    "from selenium import webdriver\n",
    "from selenium.webdriver import ChromeService \n",
    "import selenium\n",
    "from selenium.webdriver.common.by import By\n",
    "from selenium.webdriver.chrome.options import Options\n",
    "from selenium.webdriver.common.keys import Keys\n",
    "from selenium.common.exceptions import NoSuchElementException\n",
    "from selenium.common.exceptions import NoSuchAttributeException\n",
    "from selenium.common.exceptions import StaleElementReferenceException\n",
    "from selenium.webdriver.chrome.service import Service as ChromeService\n",
    "from webdriver_manager.chrome import ChromeDriverManager\n",
    "from selenium.common.exceptions import ElementClickInterceptedException\n",
    "from selenium.webdriver.support import expected_conditions as EC\n",
    "from selenium.webdriver.support.ui import WebDriverWait as WDW\n",
    "from selenium.common.exceptions import TimeoutException\n",
    "from selenium.common.exceptions import ElementNotInteractableException\n",
    "import time\n",
    "import re"
   ]
  },
  {
   "cell_type": "code",
   "execution_count": 2,
   "id": "032f0df3",
   "metadata": {},
   "outputs": [],
   "source": [
    "driver = webdriver.Chrome(service=ChromeService(ChromeDriverManager().install()))"
   ]
  },
  {
   "cell_type": "code",
   "execution_count": 3,
   "id": "ea550bc8",
   "metadata": {},
   "outputs": [],
   "source": [
    "driver.maximize_window()"
   ]
  },
  {
   "cell_type": "code",
   "execution_count": 4,
   "id": "5d03aa1b",
   "metadata": {},
   "outputs": [],
   "source": [
    "url = 'https://www.rozee.pk/'"
   ]
  },
  {
   "cell_type": "code",
   "execution_count": 5,
   "id": "ce172bac",
   "metadata": {},
   "outputs": [],
   "source": [
    "driver.get(url)"
   ]
  },
  {
   "cell_type": "code",
   "execution_count": 6,
   "id": "ad1922d6",
   "metadata": {},
   "outputs": [],
   "source": [
    "search_bar = driver.find_element(By.XPATH, '/html/body/div[2]/div[3]/div[2]/form/div[1]/input')"
   ]
  },
  {
   "cell_type": "code",
   "execution_count": 7,
   "id": "db821287",
   "metadata": {},
   "outputs": [],
   "source": [
    "search_bar.send_keys('AI/ML Engineer'+Keys.RETURN)"
   ]
  },
  {
   "cell_type": "code",
   "execution_count": 90,
   "id": "cfe00050",
   "metadata": {},
   "outputs": [],
   "source": [
    "## As there are only 5 jobs present so loop is of 5 size\n",
    "## and are starting from the range below\n",
    "\n",
    "# '/html/body/div[3]/div/div[2]/div[2]/div[3]'\n",
    "# '/html/body/div[3]/div/div[2]/div[2]/div[4]'\n",
    "# '/html/body/div[3]/div/div[2]/div[3]/div[1]/div/div[1]/div[1]/div[1]/div[3]/h1/bdi'  job title\n",
    "# '/html/body/div[3]/div/div[2]/div[3]/div[1]/div/div[1]/div[1]/div[1]/div[3]/h2/bdi/a[1]' ## job place\n",
    "\n",
    "Job_names =[]\n",
    "Comp_names = []\n",
    "Desc = []      \n",
    "Job_details = []\n",
    "Link = []\n",
    "Y = 300\n",
    "for i in range(3,10):\n",
    "    base_for_jobPos = ''\n",
    "    base_for_comp = ''\n",
    "    if i == 8:\n",
    "        continue           ## it is an ad banner\n",
    "    basic_struct = '/html/body/div[3]/div/div[2]/div[2]/div['+str(i)+']'\n",
    "    job = driver.find_element(By.XPATH,basic_struct)\n",
    "    job.get_attribute('href')\n",
    "    job.click()\n",
    "    time.sleep(2)   \n",
    "    ## This is upper parts constant pattern \n",
    "    if i < 7:\n",
    "        base_for_jobPose = '/html/body/div[3]/div/div[2]/div[3]/div[1]/div/div[1]/div[1]/div[1]/div[3]/h1'  \n",
    "        base_for_comp = '/html/body/div[3]/div/div[2]/div[3]/div[1]/div/div[1]/div[1]/div[1]/div[3]/h2' \n",
    "    else:\n",
    "        base_for_jobPose = '/html/body/div[3]/div/div[2]/div[3]/div[1]/div/div[1]/div[1]/div[1]/div[4]/h1'\n",
    "        base_for_comp ='/html/body/div[3]/div/div[2]/div[3]/div[1]/div/div[1]/div[1]/div[1]/div[4]/h2' \n",
    "    get_details = driver.find_element(By.XPATH, '/html/body/div[3]/div/div[2]/div[3]/div[1]/div/div[2]/div[3]/div')\n",
    "    Job_details.append(get_details.text)\n",
    "    get_desc = driver.find_element(By.XPATH,'/html/body/div[3]/div/div[2]/div[3]/div[1]/div/div[2]/div[1]/div/p[1]')\n",
    "    Desc.append(get_desc.text)\n",
    "#     print(get_desc.text)\n",
    "    get_title = driver.find_element(By.XPATH , base_for_jobPose)  ##\n",
    "    Job_names.append(get_title.text)\n",
    "#     print(get_title.text)\n",
    "    get_comp = driver.find_element(By.XPATH,base_for_comp)\n",
    "#     print(get_comp.text)\n",
    "    Comp_names.append(get_comp.text)\n",
    "    \n",
    "    driver.execute_script(f\"window.scrollTo(0, {Y})\")\n",
    "    \n",
    "    \n",
    "    if i == 3:\n",
    "        time.sleep(5)\n",
    "    else:\n",
    "        time.sleep(2)\n",
    "    Y = Y+120\n",
    "    \n",
    "    \n",
    "    "
   ]
  },
  {
   "cell_type": "code",
   "execution_count": 91,
   "id": "81004aa6",
   "metadata": {},
   "outputs": [],
   "source": [
    "Locations = []\n",
    "Gender = []\n",
    "Education = []\n",
    "Experience = []\n",
    "Apply_bef = []\n",
    "Age = []\n",
    "for i in range(len(Job_details)):\n",
    "    details = Job_details[i].split('\\n')\n",
    "#     print(details)\n",
    "    for j in range(len(details)):\n",
    "        if \"Location\" in  details[j]:\n",
    "            Locations.append(details[j+1])\n",
    "        if \"Gender\" in details[j]:\n",
    "            Gender.append(details[j+1])\n",
    "        if 'Education' in details[j]:\n",
    "            Education.append(details[j+1])\n",
    "        if \"Experience\" in details[j]:\n",
    "            Experience.append(details[j+1])\n",
    "        if \"Before\" in details[j]:\n",
    "            Apply_bef.append(details[j+1])\n",
    "        if \"Age\" in details[j]:\n",
    "            Age.append(details[j+1])\n",
    "        else:\n",
    "            Age.append('NA')"
   ]
  },
  {
   "cell_type": "code",
   "execution_count": 108,
   "id": "df358961",
   "metadata": {},
   "outputs": [
    {
     "name": "stdout",
     "output_type": "stream",
     "text": [
      "['2 Years - 3 Years', '3 Years', '1 Year', '1 Year', 'Less than 1 Year', '5 Years']\n"
     ]
    }
   ],
   "source": [
    "Experience = [word for word in Experience if 'Experience' not in word]\n",
    "        \n",
    "def filter_word(input_list):\n",
    "    valid = ['Bachelor', 'Intermediate/A-Level', 'Master']\n",
    "    filtered_list = [level for level in input_list if level in valid]\n",
    "    return filtered_list\n",
    "\n",
    "\n",
    "Education = filter_word(Education)\n",
    "\n",
    "print(Experience)"
   ]
  },
  {
   "cell_type": "code",
   "execution_count": 113,
   "id": "072ae5a6",
   "metadata": {},
   "outputs": [
    {
     "name": "stdout",
     "output_type": "stream",
     "text": [
      "6 6 6 6 150 6 6 6\n",
      "['2 Years - 3 Years', '3 Years', '1 Year', '1 Year', 'Less than 1 Year', '5 Years']\n"
     ]
    }
   ],
   "source": [
    "print(len(Job_names),len(Comp_names),len(Locations),len(Gender),len(Age),len(Education),len(Experience),len(Apply_bef))\n",
    "print(Experience)"
   ]
  },
  {
   "cell_type": "code",
   "execution_count": 114,
   "id": "de46cfaf",
   "metadata": {},
   "outputs": [],
   "source": [
    "data = {'Job Titles' : Job_names,\n",
    "        'Company Name' : Comp_names,\n",
    "        'Job Location': Locations,\n",
    "        'Gender' :Gender,\n",
    "        'Education Level Minimum' :Education,\n",
    "        'Experience' : Experience,\n",
    "        'Application Deadline' : Apply_bef}"
   ]
  },
  {
   "cell_type": "code",
   "execution_count": 115,
   "id": "8abdc79e",
   "metadata": {},
   "outputs": [],
   "source": [
    "df = pd.DataFrame(data)"
   ]
  },
  {
   "cell_type": "code",
   "execution_count": 45,
   "id": "2303526e",
   "metadata": {},
   "outputs": [],
   "source": [
    "# df.to_excel(\"Rozee.xlsx\")"
   ]
  },
  {
   "cell_type": "code",
   "execution_count": null,
   "id": "bbf9896d",
   "metadata": {},
   "outputs": [],
   "source": []
  },
  {
   "cell_type": "code",
   "execution_count": 2,
   "id": "4f5b18f5",
   "metadata": {},
   "outputs": [],
   "source": [
    "driver = webdriver.Chrome(service=ChromeService(ChromeDriverManager().install()))"
   ]
  },
  {
   "cell_type": "code",
   "execution_count": 3,
   "id": "bf575df3",
   "metadata": {},
   "outputs": [],
   "source": [
    "driver.maximize_window()"
   ]
  },
  {
   "cell_type": "code",
   "execution_count": 4,
   "id": "69f36beb",
   "metadata": {},
   "outputs": [],
   "source": [
    "url= 'https://pk.indeed.com/'"
   ]
  },
  {
   "cell_type": "code",
   "execution_count": 5,
   "id": "dea3693c",
   "metadata": {},
   "outputs": [],
   "source": [
    "driver.get(url)"
   ]
  },
  {
   "cell_type": "code",
   "execution_count": 6,
   "id": "89af4c58",
   "metadata": {},
   "outputs": [],
   "source": [
    "search_bar = driver.find_element(By.XPATH, '/html/body/div/div[1]/div/span/div[4]/div[1]/div/div/div/div/form/div/div[1]/div[1]/div/div/span/input')"
   ]
  },
  {
   "cell_type": "code",
   "execution_count": 7,
   "id": "00a4a127",
   "metadata": {},
   "outputs": [],
   "source": [
    "search_bar.send_keys('AI/ML Engineer'+Keys.RETURN)"
   ]
  },
  {
   "cell_type": "code",
   "execution_count": 17,
   "id": "f07fcf6c",
   "metadata": {},
   "outputs": [],
   "source": [
    "jobs = driver.find_element(By.CLASS_NAME,\"css-zu9cdh\")"
   ]
  },
  {
   "cell_type": "code",
   "execution_count": 22,
   "id": "3b0fa906",
   "metadata": {},
   "outputs": [
    {
     "data": {
      "text/plain": [
       "18"
      ]
     },
     "execution_count": 22,
     "metadata": {},
     "output_type": "execute_result"
    }
   ],
   "source": [
    "jobs = driver.find_elements(By.CLASS_NAME,\"css-5lfssm\")\n",
    "len(jobs)"
   ]
  },
  {
   "cell_type": "code",
   "execution_count": 40,
   "id": "a1523793",
   "metadata": {},
   "outputs": [],
   "source": [
    "# pix = 300 \n",
    "# Job_title = []\n",
    "# Company = []\n",
    "# Location = []\n",
    "# for i in jobs:\n",
    "#     try:\n",
    "#         company_and_title_div = i.find_element(By.CSS_SELECTOR,\"table.jobCard_mainContent\")\n",
    "#         temp = company_and_title_div.text\n",
    "#         temp_list = temp.split('\\n')\n",
    "#         Job_title.append(temp_list[0])\n",
    "#         Company.append(temp_list[1])\n",
    "#         Location.append(temp_list[2])\n",
    "# #         print(temp,end='\\n\\n')\n",
    "#     except NoSuchElementException:\n",
    "#         pass\n",
    "    \n",
    "    \n",
    "\n"
   ]
  },
  {
   "cell_type": "code",
   "execution_count": 37,
   "id": "7cc19b1b",
   "metadata": {},
   "outputs": [],
   "source": [
    "data = {'Job Titles' : Job_title,\n",
    "        'Company Name' : Company,\n",
    "        'Job Location': Location,\n",
    "       }\n",
    "df2 = pd.DataFrame(data)"
   ]
  },
  {
   "cell_type": "code",
   "execution_count": 41,
   "id": "20af6570",
   "metadata": {},
   "outputs": [],
   "source": [
    "# df2"
   ]
  },
  {
   "cell_type": "code",
   "execution_count": 42,
   "id": "999b40b2",
   "metadata": {},
   "outputs": [],
   "source": [
    "# print(Job_title)"
   ]
  },
  {
   "cell_type": "code",
   "execution_count": 43,
   "id": "f45abaf2",
   "metadata": {},
   "outputs": [],
   "source": [
    "# Company"
   ]
  },
  {
   "cell_type": "code",
   "execution_count": 44,
   "id": "82e1d9e7",
   "metadata": {},
   "outputs": [],
   "source": [
    "# Location"
   ]
  },
  {
   "cell_type": "code",
   "execution_count": 17,
   "id": "4bbbea1d",
   "metadata": {},
   "outputs": [],
   "source": [
    "# pix = 300\n",
    "# for i in range(1,18):\n",
    "#     base_struct = '/html/body/main/div/div[1]/div/div[5]/div[1]/div[5]/div/ul/li['+str(i)+']/div/div[1]/div/div[1]'\n",
    "#     get_job_divs = driver.find_element(By.XPATH, base_struct)\n",
    "#     get_job_divs.click()\n",
    "#     print(get_job_divs.text)\n",
    "#     driver.execute_script(f\"window.scrollTo(0, {pix})\")\n",
    "#     time.sleep(3)\n",
    "#     pix += 250\n",
    "#     time.sleep(1.5)\n",
    "# # '/html/body/main/div/div[1]/div/div[5]/div[1]/div[5]/div/ul'"
   ]
  },
  {
   "cell_type": "markdown",
   "id": "d0a7626b",
   "metadata": {},
   "source": [
    "## Question 3\n",
    "\n",
    "In Question 3, your objective is to find the best available product on Daraz, specifically the Redmi Note 12 smartphone. You will scrape important information from the products listed on the first five pages, which includes the Product Title, Rating, Free Shipping Status, Daraz Mall status, Seller Rating and the Ship on Time score.\n",
    "\n",
    "To find the best available product, apply the following scoring criteria to each product:\n",
    "\n",
    "<b>1) </b> The price will be the base score.<br>\n",
    "<b>2) </b> Award an additional 5,000 points to products with the \"Daraz Mall\" status.<br>\n",
    "<b>3) </b> Grant an extra 1,000 points to products with free shipping.<br>\n",
    "<b>4) </b> Add 10000*((0.4 * (Product Rating / 5)) + (0.4 * (Seller Rating / 100)) + (0.2 * (Shipping Performance / 100)) to the score <br>"
   ]
  },
  {
   "cell_type": "markdown",
   "id": "8787ef48",
   "metadata": {},
   "source": [
    "# Question 4\n",
    "\n",
    "Having successfully identified the best product, proceed to its product page on Daraz. Your task is to scrape the product's reviews and perform sentiment analysis on these reviews. To conduct sentiment analysis, you can utilize the NLTK (Natural Language Toolkit) library, which will help you determine the sentiment expressed in the text of the reviews."
   ]
  },
  {
   "cell_type": "code",
   "execution_count": 2,
   "id": "6676b4c2",
   "metadata": {},
   "outputs": [],
   "source": [
    "driver = webdriver.Chrome(service=ChromeService(ChromeDriverManager().install()))"
   ]
  },
  {
   "cell_type": "code",
   "execution_count": 3,
   "id": "c18df356",
   "metadata": {},
   "outputs": [],
   "source": [
    "driver.maximize_window()"
   ]
  },
  {
   "cell_type": "code",
   "execution_count": 4,
   "id": "944d6713",
   "metadata": {},
   "outputs": [],
   "source": [
    "url = 'https://www.daraz.pk/#'"
   ]
  },
  {
   "cell_type": "code",
   "execution_count": 5,
   "id": "a635991f",
   "metadata": {},
   "outputs": [],
   "source": [
    "driver.get(url)"
   ]
  },
  {
   "cell_type": "code",
   "execution_count": 6,
   "id": "59a77f52",
   "metadata": {},
   "outputs": [],
   "source": [
    "search_bar = driver.find_element(By.XPATH, '/html/body/div[1]/div/div/div[1]/div/div/div[2]/div/div[2]/form/div/div[1]/input[1]')"
   ]
  },
  {
   "cell_type": "code",
   "execution_count": 7,
   "id": "52014f85",
   "metadata": {},
   "outputs": [],
   "source": [
    "search_bar.send_keys('Redmi Note 12'+Keys.RETURN)"
   ]
  },
  {
   "cell_type": "code",
   "execution_count": 19,
   "id": "55b60246",
   "metadata": {},
   "outputs": [
    {
     "name": "stdout",
     "output_type": "stream",
     "text": [
      "https://www.daraz.pk/products/12-8-gb-256-gb-16-mp-5mp-08-mp-02-mp-li-po-108-mah-i429691384-s2046484227.html?search=1\n",
      "0/5\n",
      "3\n",
      "95%\n",
      "64%\n",
      "100%\n",
      "<class 'list'>\n",
      "[<selenium.webdriver.remote.webelement.WebElement (session=\"6d0ee0de48f3791896f45c1a185e90f2\", element=\"C22E0AFA28770C67A4C5028AF77B9674_element_4268\")>, <selenium.webdriver.remote.webelement.WebElement (session=\"6d0ee0de48f3791896f45c1a185e90f2\", element=\"C22E0AFA28770C67A4C5028AF77B9674_element_4269\")>, <selenium.webdriver.remote.webelement.WebElement (session=\"6d0ee0de48f3791896f45c1a185e90f2\", element=\"C22E0AFA28770C67A4C5028AF77B9674_element_4270\")>]\n",
      "1\n"
     ]
    }
   ],
   "source": [
    "# time.sleep(1)\n",
    "phones_inner_link_clickable = driver.find_elements(By.CLASS_NAME,'title--wFj93')\n",
    "len(phones_inner_link_clickable)\n",
    "print(phones_inner_link_clickable[3].find_element(By.TAG_NAME,'a').get_attribute('href'))\n",
    "phones_inner_link_clickable[37].click()\n",
    "\n",
    "# next_page = driver.find_element(By.XPATH,'/html/body/div[3]/div/div[3]/div/div/div[1]/div[3]/div/div/ul/li[9]')  ## to go to next page\n",
    "# next_page.click()\n",
    "# driver.execute_script(f\"window.scrollTo(0, 500)\")\n",
    "time.sleep(3)\n",
    "driver.execute_script(f\"window.scrollTo(0, 1000)\")\n",
    "sleep(2)\n",
    "\n",
    "# '/html/body/div[3]/div/div[3]/div/div/div[1]/div[3]/div/div/ul/li[9]'\n",
    "# '/html/body/div[3]/div/div[3]/div/div/div[1]/div[3]/div/div/ul/li[9]'\n",
    "# '/html/body/div[4]/div/div[3]/div[2]/div/div[2]/div[1]/div/div/div[3]/div/div[1]/div'  free check\n",
    "rate = driver.find_element(By.CLASS_NAME, 'score').text\n",
    "print(rate)\n",
    "# free = driver.find_element(By.CLASS_NAME,'delivery-option-item').text\n",
    "# print(free)\n",
    "pos = driver.find_elements(By.CLASS_NAME, 'seller-info-value')\n",
    "print(len(pos))\n",
    "for i in pos:\n",
    "    print(i.text)\n",
    "# strchk = not any(char.isdigit() for char in pos)\n",
    "# if strchk == True:\n",
    "#     pos = 0\n",
    "# else:\n",
    "#     pos = float(''.join(filter(str.isdigit,pos)))\n",
    "    \n",
    "print(type(pos))\n",
    "print(pos)\n",
    "# print(driver.find_element(By.CLASS_NAME,'pdp-mod-product-badge-wrapper').text)\n",
    "mall = driver.find_element(By.CLASS_NAME, 'seller-name__detail')\n",
    "lmao = mall.find_elements(By.TAG_NAME,'a')\n",
    "\n",
    "print(len(lmao))\n",
    "\n",
    "# print(driver.find_element(By.CLASS_NAME,'pdp-price').text)  ## price\n",
    "sleep(1)\n",
    "driver.back()\n",
    "\n",
    "# driver.find_element(By.XPATH,'/html/body/div[4]/div/div[3]/div[2]/div/div[2]/div[1]/div/div/div[3]/div/div[1]/div/div[1]/div[1]/div[1]').text"
   ]
  },
  {
   "cell_type": "code",
   "execution_count": 18,
   "id": "3313407e",
   "metadata": {},
   "outputs": [
    {
     "name": "stdout",
     "output_type": "stream",
     "text": [
      "['Free', 'Delivery', '23', 'Nov', '-', '26', 'Nov\\n2', '-', '5', 'day(s)\\nFree\\nEnjoy', 'free', 'shipping', 'promotion', 'with', 'minimum', 'spend', 'of', 'Rs.', '599', 'from', 'Mercato', 'trading.']\n"
     ]
    },
    {
     "data": {
      "text/plain": [
       "True"
      ]
     },
     "execution_count": 18,
     "metadata": {},
     "output_type": "execute_result"
    }
   ],
   "source": [
    "# freelist = free.split(' ')\n",
    "# print(freelist)\n",
    "# free_stat = ('Free') in freelist\n",
    "# free_stat"
   ]
  },
  {
   "cell_type": "code",
   "execution_count": 8,
   "id": "555341df",
   "metadata": {},
   "outputs": [
    {
     "data": {
      "text/plain": [
       "40"
      ]
     },
     "execution_count": 8,
     "metadata": {},
     "output_type": "execute_result"
    }
   ],
   "source": [
    "phones_inner_link_clickable = driver.find_elements(By.CLASS_NAME,'title--wFj93')\n",
    "len(phones_inner_link_clickable)"
   ]
  },
  {
   "cell_type": "code",
   "execution_count": 179,
   "id": "433caf4b",
   "metadata": {},
   "outputs": [
    {
     "name": "stdout",
     "output_type": "stream",
     "text": [
      "Xiaomi Redmi Note 12 || 8GB Ram 128GB Rom || 5000mAh Battery 33W Fast Charger\n",
      "Redmi Note 12 - 6.67\" Inch Display - 8GB RAM - 128GB / 256GB ROM\n",
      "Xiaomi Redmi Note 12 Pro RAM 8 GB ROM 256 GB Front Camera 16 MP Back Camera 108 MP + 08 MP + 02 MP Battery Type Li-Po 5000 mAh, non-removable\n",
      "Redmi Note 12 Pro - 8GB Ram 256GB Rom - 5000mAh Battery\n",
      "Xiaomi Redmi Note 12 Pro RAM 8 GB ROM 256 GB Front Camera 16 MP Back Camera 108 MP + 08 MP + 02 MP Battery Type Li-Po 5000 mAh, non-removable\n",
      "Xiaomi Redmi Note 12 - 8GB RAM 128GB/256GB ROM - 5000mAh Battery\n",
      "Redmi Note 12 8GB Ram 128GB Rom, Display Size 6.67 Inches, Battery Capacity 5000 mAh , Fast charging 33W\n",
      "Redmi Note 12 || 8GB Ram 256GB Rom || 5000mAh Battery\n",
      "Xiaomi Redmi Note 12 RAM 8 GB ROM 128 Front Camera 13 MP Back Camera 50 MP + 8 MP + 2 MP Battery Type Li-Po 5000 mAh, non-removable\n",
      "Redmi note 12 8GB RAM -256GB ROM PTA APPROVED OFFICIAL WARRANTY SUPER FAST CHARGING\n",
      "Redmi Note 12 Pro - 6.67\" Inch Display - 8GB RAM - 256GB ROM\n",
      "Redmi Note 12 8GB Ram 128GB Rom, Display Size 6.67 Inches, Battery Capacity 5000 mAh , Fast charging 33W\n",
      "Redmi Note 12 8GB Ram 128GB Rom, Display Size 6.67 Inches, Battery Capacity 5000 mAh , Fast charging 33W\n",
      "REDMI NOTE 12 = 8GB RAM - 256GB ROM =5000 mAh Battery\n",
      "Xiaomi Redmi Note 12 RAM 8 GB ROM 256 Front Camera 13 MP Back Camera 50 MP + 8 MP + 2 MP Battery Type Li-Po 5000 mAh, non-removable\n",
      "Xiaomi Redmi Note 12 RAM 8 GB ROM 256 Front Camera 13 MP Back Camera 50 MP + 8 MP + 2 MP Battery Type Li-Po 5000 mAh, non-removable\n",
      "Xiaomi Redmi Note 12 S RAM 8 GB ROM 256 GB Front Camera 16 MP Back Camera 108 MP + 8 MP + 2 MP Battery Type 5000 mAh\n",
      "Xiaomi Redmi Note 12 Pro RAM 8 GB ROM 256 GB Front Camera 16 MP Back Camera 108 MP + 08 MP + 02 MP Battery Type Li-Po 5000 mAh, non-removable\n",
      "Xiaomi Redmi Note 12 RAM 8 GB ROM 256 Front Camera 13 MP Back Camera 50 MP + 8 MP + 2 MP Battery Type Li-Po 5000 mAh, non-removable\n",
      "Xiaomi Redmi Note 12 S RAM 8 GB ROM 256 GB Front Camera 16 MP Back Camera 108 MP + 8 MP + 2 MP Battery Type 5000 mAh\n",
      "Xiaomi Redmi Note 12 S RAM 8 GB ROM 256 GB Front Camera 16 MP Back Camera 108 MP + 8 MP + 2 MP Battery Type 5000 mAh\n",
      "Xiaomi Redmi Note 12 S RAM 8 GB ROM 256 GB Front Camera 16 MP Back Camera 108 MP + 8 MP + 2 MP Battery Type 5000 mAh\n",
      "Xiaomi Redmi Note 12 RAM 8 GB ROM 128 Front Camera 13 MP Back Camera 50 MP + 8 MP + 2 MP Battery Type Li-Po 5000 mAh, non-removable\n",
      "Redmi Note 12 || 6GB Ram 128GB Rom || 6.67 Inches AMOLED Display || 5000 mAh - Fast charging 33W wired ||\n",
      "Redmi Note 12 Pro - 8GB RAM 256GB ROM - 6.67\" SuperAmoled Display - 5000mAh Battery\n",
      "Xiaomi Redmi Note 12 RAM 8 GB ROM 256 Front Camera 13 MP Back Camera 50 MP + 8 MP + 2 MP Battery Type Li-Po 5000 mAh, non-removable\n",
      "Xiaomi Redmi Note 12 RAM 6 GB ROM 128 Front Camera 13 MP Back Camera 50 MP + 8 MP + 2 MP Battery Type Li-Po 5000 mAh, non-removable\n",
      "Redmi Note 12 Pro , 8GB RAM 256GB ROM , 108MP Main Camera , Finger Sensor , 5000mAh Fast Charging\n",
      "Redmi Note 12 - 6GB Ran 128GB Rom - 5000mAh Battery\n",
      "Xiaomi Redmi Note 12 RAM 6 GB ROM 128 Front Camera 13 MP Back Camera 50 MP + 8 MP + 2 MP Battery Type Li-Po 5000 mAh, non-removable\n",
      "Xiaomi Redmi Note 12 RAM 6 GB ROM 128 Front Camera 13 MP Back Camera 50 MP + 8 MP + 2 MP Battery Type Li-Po 5000 mAh, non-removable\n",
      "Xiaomi Redmi Note 12 RAM 8 GB ROM 128 Front Camera 13 MP Back Camera 50 MP + 8 MP + 2 MP Battery Type Li-Po 5000 mAh, non-removable\n",
      "Redmi Note 12 Pro , 8GB RAM 256GB ROM , 108MP Main Camera , Finger Sensor , 5000mAh Fast Charging\n",
      "Redmi Note 12 Pro , 8GB RAM 256GB ROM , 108MP Main Camera , Finger Sensor , 5000mAh Fast Charging\n",
      "Xiaomi Redmi Note 12 - 6.67\" AMOLED DotDisplay - 120Hz Refresh Rate - 8GB RAM 128GB/256GB ROM - 5000mAh Battery - 33W Fast Charge - 13MP Front Camera - 50MP Main Camera + 8MP Ultra Wide Camera - 2MP Macro Camera - PTA Approved\n",
      "Redmi Note 12 8 GB RAM + 128GB ROM PTA Approved Mobile Phone with 1 Year Brand Warranty\n",
      "Xiaomi Redmi Note 12 RAM 8 GB ROM 128 Front Camera 13 MP Back Camera 50 MP + 8 MP + 2 MP Battery Type Li-Po 5000 mAh, non-removable\n",
      "XIAOMI REDMI NOTE 12 8GB RAM 128GB ROM || 6.67\" DISPLAY || 5000mAh BATTERY || PTA APPROVED || ONE YEAR BRAND WARRANTY\n",
      "Redmi Note 12 (8GB-128GB) PTA Approved With Official 1 Year Warranty\n",
      "Redmi Note 12 8GB Ram 128GB Rom, Display Size 6.67 Inches, Battery Capacity 5000 mAh , Fast charging 33W\n"
     ]
    }
   ],
   "source": [
    "# time.sleep(1)\n",
    "for phone in phones_inner_link_clickable:\n",
    "    print(phone.text)\n",
    "# '/html/body/div[3]/div/div[3]/div/div/div[1]/div[2]/div[2]/div/div/div[2]/div[2]/a'\n",
    "# '/html/body/div[3]/div/div[3]/div/div/div[1]/div[2]/div[3]/div/div/div[2]/div[2]/a'\n",
    "# '/html/body/div[3]/div/div[3]/div/div/div[1]/div[2]/div[1]/div/div/div[2]/div[2]/a'\n",
    "# driver.back()"
   ]
  },
  {
   "cell_type": "code",
   "execution_count": 182,
   "id": "5f6155ea",
   "metadata": {},
   "outputs": [
    {
     "ename": "NoSuchElementException",
     "evalue": "Message: no such element: Unable to locate element: {\"method\":\"css selector\",\"selector\":\".pdp-mod-product-badge-wrapper\"}\n  (Session info: chrome=119.0.6045.160); For documentation on this error, please visit: https://www.selenium.dev/documentation/webdriver/troubleshooting/errors#no-such-element-exception\nStacktrace:\n\tGetHandleVerifier [0x00D172A3+45731]\n\t(No symbol) [0x00CA2D51]\n\t(No symbol) [0x00B9880D]\n\t(No symbol) [0x00BCB940]\n\t(No symbol) [0x00BCBE0B]\n\t(No symbol) [0x00BFD1F2]\n\t(No symbol) [0x00BE8024]\n\t(No symbol) [0x00BFB7A2]\n\t(No symbol) [0x00BE7DD6]\n\t(No symbol) [0x00BC31F6]\n\t(No symbol) [0x00BC439D]\n\tGetHandleVerifier [0x01020716+3229462]\n\tGetHandleVerifier [0x010684C8+3523784]\n\tGetHandleVerifier [0x0106214C+3498316]\n\tGetHandleVerifier [0x00DA1680+611968]\n\t(No symbol) [0x00CACCCC]\n\t(No symbol) [0x00CA8DF8]\n\t(No symbol) [0x00CA8F1D]\n\t(No symbol) [0x00C9B2C7]\n\tBaseThreadInitThunk [0x7603FCC9+25]\n\tRtlGetAppContainerNamedObjectPath [0x76F57C6E+286]\n\tRtlGetAppContainerNamedObjectPath [0x76F57C3E+238]\n",
     "output_type": "error",
     "traceback": [
      "\u001b[1;31m---------------------------------------------------------------------------\u001b[0m",
      "\u001b[1;31mNoSuchElementException\u001b[0m                    Traceback (most recent call last)",
      "Cell \u001b[1;32mIn[182], line 34\u001b[0m\n\u001b[0;32m     30\u001b[0m sleep(\u001b[38;5;241m3\u001b[39m)\n\u001b[0;32m     33\u001b[0m sleep(\u001b[38;5;241m2\u001b[39m)\n\u001b[1;32m---> 34\u001b[0m title \u001b[38;5;241m=\u001b[39m \u001b[43mdriver\u001b[49m\u001b[38;5;241;43m.\u001b[39;49m\u001b[43mfind_element\u001b[49m\u001b[43m(\u001b[49m\u001b[43mBy\u001b[49m\u001b[38;5;241;43m.\u001b[39;49m\u001b[43mCLASS_NAME\u001b[49m\u001b[43m,\u001b[49m\u001b[38;5;124;43m'\u001b[39;49m\u001b[38;5;124;43mpdp-mod-product-badge-wrapper\u001b[39;49m\u001b[38;5;124;43m'\u001b[39;49m\u001b[43m)\u001b[49m\u001b[38;5;241m.\u001b[39mtext        \u001b[38;5;66;03m## whole title\u001b[39;00m\n\u001b[0;32m     35\u001b[0m free_shipstat \u001b[38;5;241m=\u001b[39m \u001b[38;5;124m'\u001b[39m\u001b[38;5;124mFree\u001b[39m\u001b[38;5;124m'\u001b[39m \u001b[38;5;129;01min\u001b[39;00m ((driver\u001b[38;5;241m.\u001b[39mfind_element(By\u001b[38;5;241m.\u001b[39mCLASS_NAME, \u001b[38;5;124m'\u001b[39m\u001b[38;5;124mdelivery-option-item\u001b[39m\u001b[38;5;124m'\u001b[39m)\u001b[38;5;241m.\u001b[39mtext)\u001b[38;5;241m.\u001b[39msplit(\u001b[38;5;124m'\u001b[39m\u001b[38;5;124m \u001b[39m\u001b[38;5;124m'\u001b[39m)) \n\u001b[0;32m     36\u001b[0m sleep(\u001b[38;5;241m2\u001b[39m)\n",
      "File \u001b[1;32m~\\anaconda3\\Lib\\site-packages\\selenium\\webdriver\\remote\\webdriver.py:738\u001b[0m, in \u001b[0;36mWebDriver.find_element\u001b[1;34m(self, by, value)\u001b[0m\n\u001b[0;32m    735\u001b[0m     by \u001b[38;5;241m=\u001b[39m By\u001b[38;5;241m.\u001b[39mCSS_SELECTOR\n\u001b[0;32m    736\u001b[0m     value \u001b[38;5;241m=\u001b[39m \u001b[38;5;124mf\u001b[39m\u001b[38;5;124m'\u001b[39m\u001b[38;5;124m[name=\u001b[39m\u001b[38;5;124m\"\u001b[39m\u001b[38;5;132;01m{\u001b[39;00mvalue\u001b[38;5;132;01m}\u001b[39;00m\u001b[38;5;124m\"\u001b[39m\u001b[38;5;124m]\u001b[39m\u001b[38;5;124m'\u001b[39m\n\u001b[1;32m--> 738\u001b[0m \u001b[38;5;28;01mreturn\u001b[39;00m \u001b[38;5;28;43mself\u001b[39;49m\u001b[38;5;241;43m.\u001b[39;49m\u001b[43mexecute\u001b[49m\u001b[43m(\u001b[49m\u001b[43mCommand\u001b[49m\u001b[38;5;241;43m.\u001b[39;49m\u001b[43mFIND_ELEMENT\u001b[49m\u001b[43m,\u001b[49m\u001b[43m \u001b[49m\u001b[43m{\u001b[49m\u001b[38;5;124;43m\"\u001b[39;49m\u001b[38;5;124;43musing\u001b[39;49m\u001b[38;5;124;43m\"\u001b[39;49m\u001b[43m:\u001b[49m\u001b[43m \u001b[49m\u001b[43mby\u001b[49m\u001b[43m,\u001b[49m\u001b[43m \u001b[49m\u001b[38;5;124;43m\"\u001b[39;49m\u001b[38;5;124;43mvalue\u001b[39;49m\u001b[38;5;124;43m\"\u001b[39;49m\u001b[43m:\u001b[49m\u001b[43m \u001b[49m\u001b[43mvalue\u001b[49m\u001b[43m}\u001b[49m\u001b[43m)\u001b[49m[\u001b[38;5;124m\"\u001b[39m\u001b[38;5;124mvalue\u001b[39m\u001b[38;5;124m\"\u001b[39m]\n",
      "File \u001b[1;32m~\\anaconda3\\Lib\\site-packages\\selenium\\webdriver\\remote\\webdriver.py:344\u001b[0m, in \u001b[0;36mWebDriver.execute\u001b[1;34m(self, driver_command, params)\u001b[0m\n\u001b[0;32m    342\u001b[0m response \u001b[38;5;241m=\u001b[39m \u001b[38;5;28mself\u001b[39m\u001b[38;5;241m.\u001b[39mcommand_executor\u001b[38;5;241m.\u001b[39mexecute(driver_command, params)\n\u001b[0;32m    343\u001b[0m \u001b[38;5;28;01mif\u001b[39;00m response:\n\u001b[1;32m--> 344\u001b[0m     \u001b[38;5;28;43mself\u001b[39;49m\u001b[38;5;241;43m.\u001b[39;49m\u001b[43merror_handler\u001b[49m\u001b[38;5;241;43m.\u001b[39;49m\u001b[43mcheck_response\u001b[49m\u001b[43m(\u001b[49m\u001b[43mresponse\u001b[49m\u001b[43m)\u001b[49m\n\u001b[0;32m    345\u001b[0m     response[\u001b[38;5;124m\"\u001b[39m\u001b[38;5;124mvalue\u001b[39m\u001b[38;5;124m\"\u001b[39m] \u001b[38;5;241m=\u001b[39m \u001b[38;5;28mself\u001b[39m\u001b[38;5;241m.\u001b[39m_unwrap_value(response\u001b[38;5;241m.\u001b[39mget(\u001b[38;5;124m\"\u001b[39m\u001b[38;5;124mvalue\u001b[39m\u001b[38;5;124m\"\u001b[39m, \u001b[38;5;28;01mNone\u001b[39;00m))\n\u001b[0;32m    346\u001b[0m     \u001b[38;5;28;01mreturn\u001b[39;00m response\n",
      "File \u001b[1;32m~\\anaconda3\\Lib\\site-packages\\selenium\\webdriver\\remote\\errorhandler.py:229\u001b[0m, in \u001b[0;36mErrorHandler.check_response\u001b[1;34m(self, response)\u001b[0m\n\u001b[0;32m    227\u001b[0m         alert_text \u001b[38;5;241m=\u001b[39m value[\u001b[38;5;124m\"\u001b[39m\u001b[38;5;124malert\u001b[39m\u001b[38;5;124m\"\u001b[39m]\u001b[38;5;241m.\u001b[39mget(\u001b[38;5;124m\"\u001b[39m\u001b[38;5;124mtext\u001b[39m\u001b[38;5;124m\"\u001b[39m)\n\u001b[0;32m    228\u001b[0m     \u001b[38;5;28;01mraise\u001b[39;00m exception_class(message, screen, stacktrace, alert_text)  \u001b[38;5;66;03m# type: ignore[call-arg]  # mypy is not smart enough here\u001b[39;00m\n\u001b[1;32m--> 229\u001b[0m \u001b[38;5;28;01mraise\u001b[39;00m exception_class(message, screen, stacktrace)\n",
      "\u001b[1;31mNoSuchElementException\u001b[0m: Message: no such element: Unable to locate element: {\"method\":\"css selector\",\"selector\":\".pdp-mod-product-badge-wrapper\"}\n  (Session info: chrome=119.0.6045.160); For documentation on this error, please visit: https://www.selenium.dev/documentation/webdriver/troubleshooting/errors#no-such-element-exception\nStacktrace:\n\tGetHandleVerifier [0x00D172A3+45731]\n\t(No symbol) [0x00CA2D51]\n\t(No symbol) [0x00B9880D]\n\t(No symbol) [0x00BCB940]\n\t(No symbol) [0x00BCBE0B]\n\t(No symbol) [0x00BFD1F2]\n\t(No symbol) [0x00BE8024]\n\t(No symbol) [0x00BFB7A2]\n\t(No symbol) [0x00BE7DD6]\n\t(No symbol) [0x00BC31F6]\n\t(No symbol) [0x00BC439D]\n\tGetHandleVerifier [0x01020716+3229462]\n\tGetHandleVerifier [0x010684C8+3523784]\n\tGetHandleVerifier [0x0106214C+3498316]\n\tGetHandleVerifier [0x00DA1680+611968]\n\t(No symbol) [0x00CACCCC]\n\t(No symbol) [0x00CA8DF8]\n\t(No symbol) [0x00CA8F1D]\n\t(No symbol) [0x00C9B2C7]\n\tBaseThreadInitThunk [0x7603FCC9+25]\n\tRtlGetAppContainerNamedObjectPath [0x76F57C6E+286]\n\tRtlGetAppContainerNamedObjectPath [0x76F57C3E+238]\n"
     ]
    }
   ],
   "source": [
    "\n",
    "Product_Name = []\n",
    "# Free_delivery = []\n",
    "SCORE = []\n",
    "# MALL_Status = []\n",
    "# Seller_Rating = []\n",
    "Links = []\n",
    "iteration = 0\n",
    "while iteration < 1:\n",
    "    phones_inner_link_clickable = driver.find_elements(By.CLASS_NAME,'title--wFj93')\n",
    "    sleep(1)\n",
    "    for phone in phones_inner_link_clickable:\n",
    "        positive_response = 0\n",
    "        shipping_score = 0\n",
    "        mall_stat = 0\n",
    "        free_stat = 0\n",
    "        lnk = 0\n",
    "        sleep(2)\n",
    "        try:\n",
    "            lnk = phone.find_element(By.TAG_NAME,'a').get_attribute('href')\n",
    "            sleep(2)\n",
    "        except StaleElementReferenceException:\n",
    "            pass\n",
    "        Links.append(lnk)\n",
    "        sleep(2)\n",
    "        try:\n",
    "            phone.click()\n",
    "            sleep(2)\n",
    "        except StaleElementReferenceException:\n",
    "            pass\n",
    "        sleep(3)\n",
    "        \n",
    "        \n",
    "        sleep(2)\n",
    "        title = driver.find_element(By.CLASS_NAME,'pdp-mod-product-badge-wrapper').text        ## whole title\n",
    "        free_shipstat = 'Free' in ((driver.find_element(By.CLASS_NAME, 'delivery-option-item').text).split(' ')) \n",
    "        if free_shipstat == True:\n",
    "            free_stat = 1000\n",
    "        else:\n",
    "            free_stat = 0\n",
    "        ## the above line gets a raw text then it checks whether it has the (keyword) in our case  'Free'\n",
    "        price = driver.find_element(By.CLASS_NAME,'pdp-price').text     ## price is returned in the formate.g Rs. 50,999 \n",
    "        price = int(''.join(filter(str.isdigit, price)))                  ## price is converted to 50999\n",
    "        seller_detail_div = driver.find_element(By.CLASS_NAME,'seller-name__detail')\n",
    "        total_anchors = len(seller_detail_div.find_elements(By.TAG_NAME,'a'))            ## checking if it is a daraz mall wali cheez by number of anchor tags\n",
    "        if total_anchors == 2:\n",
    "            mall_stat = 5000\n",
    "        else:\n",
    "            mall_stat = 0\n",
    "        pos = driver.find_elements(By.CLASS_NAME, 'seller-info-value')\n",
    "        strchk_for_positive_rate = not any(char.isdigit() for char in pos[0].text)\n",
    "        strchk_for_shipping = not any(char.isdigit() for char in pos[1].text)\n",
    "        \n",
    "        if strchk_for_positive_rate == True:\n",
    "            pos = 0\n",
    "            positive_response = pos\n",
    "        else:\n",
    "            positive_response = float(''.join(filter(str.isdigit,pos[0].text)))   ## converting the the number string to float if it is not a string \n",
    "        if strchk_for_shipping == True:\n",
    "            shipping_score = 0\n",
    "        else:\n",
    "            shipping_score = float(''.join(filter(str.isdigit,pos[1].text)))\n",
    "        \n",
    "        sleep(2)\n",
    "        driver.execute_script(f'window.scrollTo(0,1500)')\n",
    "        sleep(2)\n",
    "        rating = float(driver.find_element(By.CLASS_NAME,'score-average').text)\n",
    "        \n",
    "        final_score = price+ mall_stat + 10000*((0.4 * (rating / 5)) + (0.4 * (positive_response / 100)) + (0.2 * (shipping_score / 100)))\n",
    "        Product_Name.append(title)\n",
    "        SCORE.append(final_score)\n",
    "        sleep(1)\n",
    "        driver.back()       ## go back to the main screen where all mobiles are present\n",
    "        sleep(2)\n",
    "        \n",
    "    next_page =driver.find_element(By.XPATH, '/html/body/div[3]/div/div[3]/div/div/div[1]/div[3]/div/div/ul/li[9]')\n",
    "    next_page.click()  ## will go on next page by clicking the > icon\n",
    "    iteration+=1"
   ]
  },
  {
   "cell_type": "code",
   "execution_count": 22,
   "id": "c05aa476",
   "metadata": {},
   "outputs": [
    {
     "name": "stdout",
     "output_type": "stream",
     "text": [
      "4.7\n"
     ]
    },
    {
     "ename": "NoSuchElementException",
     "evalue": "Message: no such element: Unable to locate element: {\"method\":\"css selector\",\"selector\":\".score\"}\n  (Session info: chrome=119.0.6045.160); For documentation on this error, please visit: https://www.selenium.dev/documentation/webdriver/troubleshooting/errors#no-such-element-exception\nStacktrace:\n\tGetHandleVerifier [0x005472A3+45731]\n\t(No symbol) [0x004D2D51]\n\t(No symbol) [0x003C880D]\n\t(No symbol) [0x003FB940]\n\t(No symbol) [0x003FBE0B]\n\t(No symbol) [0x0042D1F2]\n\t(No symbol) [0x00418024]\n\t(No symbol) [0x0042B7A2]\n\t(No symbol) [0x00417DD6]\n\t(No symbol) [0x003F31F6]\n\t(No symbol) [0x003F439D]\n\tGetHandleVerifier [0x00850716+3229462]\n\tGetHandleVerifier [0x008984C8+3523784]\n\tGetHandleVerifier [0x0089214C+3498316]\n\tGetHandleVerifier [0x005D1680+611968]\n\t(No symbol) [0x004DCCCC]\n\t(No symbol) [0x004D8DF8]\n\t(No symbol) [0x004D8F1D]\n\t(No symbol) [0x004CB2C7]\n\tBaseThreadInitThunk [0x7603FCC9+25]\n\tRtlGetAppContainerNamedObjectPath [0x76F57C6E+286]\n\tRtlGetAppContainerNamedObjectPath [0x76F57C3E+238]\n",
     "output_type": "error",
     "traceback": [
      "\u001b[1;31m---------------------------------------------------------------------------\u001b[0m",
      "\u001b[1;31mNoSuchElementException\u001b[0m                    Traceback (most recent call last)",
      "Cell \u001b[1;32mIn[22], line 70\u001b[0m\n\u001b[0;32m     68\u001b[0m driver\u001b[38;5;241m.\u001b[39mexecute_script(\u001b[38;5;124mf\u001b[39m\u001b[38;5;124m'\u001b[39m\u001b[38;5;124mwindow.scrollTo(0,1100)\u001b[39m\u001b[38;5;124m'\u001b[39m)\n\u001b[0;32m     69\u001b[0m sleep(\u001b[38;5;241m2\u001b[39m)\n\u001b[1;32m---> 70\u001b[0m rating \u001b[38;5;241m=\u001b[39m \u001b[38;5;28mfloat\u001b[39m(\u001b[43mdriver\u001b[49m\u001b[38;5;241;43m.\u001b[39;49m\u001b[43mfind_element\u001b[49m\u001b[43m(\u001b[49m\u001b[43mBy\u001b[49m\u001b[38;5;241;43m.\u001b[39;49m\u001b[43mCLASS_NAME\u001b[49m\u001b[43m,\u001b[49m\u001b[38;5;124;43m'\u001b[39;49m\u001b[38;5;124;43mscore\u001b[39;49m\u001b[38;5;124;43m'\u001b[39;49m\u001b[43m)\u001b[49m\u001b[38;5;241m.\u001b[39mtext)\n\u001b[0;32m     71\u001b[0m \u001b[38;5;28mprint\u001b[39m(rating)\n\u001b[0;32m     73\u001b[0m final_score \u001b[38;5;241m=\u001b[39m price\u001b[38;5;241m+\u001b[39m mall_stat \u001b[38;5;241m+\u001b[39m \u001b[38;5;241m10000\u001b[39m\u001b[38;5;241m*\u001b[39m((\u001b[38;5;241m0.4\u001b[39m \u001b[38;5;241m*\u001b[39m (rating \u001b[38;5;241m/\u001b[39m \u001b[38;5;241m5\u001b[39m)) \u001b[38;5;241m+\u001b[39m (\u001b[38;5;241m0.4\u001b[39m \u001b[38;5;241m*\u001b[39m (positive_response \u001b[38;5;241m/\u001b[39m \u001b[38;5;241m100\u001b[39m)) \u001b[38;5;241m+\u001b[39m (\u001b[38;5;241m0.2\u001b[39m \u001b[38;5;241m*\u001b[39m (shipping_score \u001b[38;5;241m/\u001b[39m \u001b[38;5;241m100\u001b[39m)))\n",
      "File \u001b[1;32m~\\anaconda3\\Lib\\site-packages\\selenium\\webdriver\\remote\\webdriver.py:738\u001b[0m, in \u001b[0;36mWebDriver.find_element\u001b[1;34m(self, by, value)\u001b[0m\n\u001b[0;32m    735\u001b[0m     by \u001b[38;5;241m=\u001b[39m By\u001b[38;5;241m.\u001b[39mCSS_SELECTOR\n\u001b[0;32m    736\u001b[0m     value \u001b[38;5;241m=\u001b[39m \u001b[38;5;124mf\u001b[39m\u001b[38;5;124m'\u001b[39m\u001b[38;5;124m[name=\u001b[39m\u001b[38;5;124m\"\u001b[39m\u001b[38;5;132;01m{\u001b[39;00mvalue\u001b[38;5;132;01m}\u001b[39;00m\u001b[38;5;124m\"\u001b[39m\u001b[38;5;124m]\u001b[39m\u001b[38;5;124m'\u001b[39m\n\u001b[1;32m--> 738\u001b[0m \u001b[38;5;28;01mreturn\u001b[39;00m \u001b[38;5;28;43mself\u001b[39;49m\u001b[38;5;241;43m.\u001b[39;49m\u001b[43mexecute\u001b[49m\u001b[43m(\u001b[49m\u001b[43mCommand\u001b[49m\u001b[38;5;241;43m.\u001b[39;49m\u001b[43mFIND_ELEMENT\u001b[49m\u001b[43m,\u001b[49m\u001b[43m \u001b[49m\u001b[43m{\u001b[49m\u001b[38;5;124;43m\"\u001b[39;49m\u001b[38;5;124;43musing\u001b[39;49m\u001b[38;5;124;43m\"\u001b[39;49m\u001b[43m:\u001b[49m\u001b[43m \u001b[49m\u001b[43mby\u001b[49m\u001b[43m,\u001b[49m\u001b[43m \u001b[49m\u001b[38;5;124;43m\"\u001b[39;49m\u001b[38;5;124;43mvalue\u001b[39;49m\u001b[38;5;124;43m\"\u001b[39;49m\u001b[43m:\u001b[49m\u001b[43m \u001b[49m\u001b[43mvalue\u001b[49m\u001b[43m}\u001b[49m\u001b[43m)\u001b[49m[\u001b[38;5;124m\"\u001b[39m\u001b[38;5;124mvalue\u001b[39m\u001b[38;5;124m\"\u001b[39m]\n",
      "File \u001b[1;32m~\\anaconda3\\Lib\\site-packages\\selenium\\webdriver\\remote\\webdriver.py:344\u001b[0m, in \u001b[0;36mWebDriver.execute\u001b[1;34m(self, driver_command, params)\u001b[0m\n\u001b[0;32m    342\u001b[0m response \u001b[38;5;241m=\u001b[39m \u001b[38;5;28mself\u001b[39m\u001b[38;5;241m.\u001b[39mcommand_executor\u001b[38;5;241m.\u001b[39mexecute(driver_command, params)\n\u001b[0;32m    343\u001b[0m \u001b[38;5;28;01mif\u001b[39;00m response:\n\u001b[1;32m--> 344\u001b[0m     \u001b[38;5;28;43mself\u001b[39;49m\u001b[38;5;241;43m.\u001b[39;49m\u001b[43merror_handler\u001b[49m\u001b[38;5;241;43m.\u001b[39;49m\u001b[43mcheck_response\u001b[49m\u001b[43m(\u001b[49m\u001b[43mresponse\u001b[49m\u001b[43m)\u001b[49m\n\u001b[0;32m    345\u001b[0m     response[\u001b[38;5;124m\"\u001b[39m\u001b[38;5;124mvalue\u001b[39m\u001b[38;5;124m\"\u001b[39m] \u001b[38;5;241m=\u001b[39m \u001b[38;5;28mself\u001b[39m\u001b[38;5;241m.\u001b[39m_unwrap_value(response\u001b[38;5;241m.\u001b[39mget(\u001b[38;5;124m\"\u001b[39m\u001b[38;5;124mvalue\u001b[39m\u001b[38;5;124m\"\u001b[39m, \u001b[38;5;28;01mNone\u001b[39;00m))\n\u001b[0;32m    346\u001b[0m     \u001b[38;5;28;01mreturn\u001b[39;00m response\n",
      "File \u001b[1;32m~\\anaconda3\\Lib\\site-packages\\selenium\\webdriver\\remote\\errorhandler.py:229\u001b[0m, in \u001b[0;36mErrorHandler.check_response\u001b[1;34m(self, response)\u001b[0m\n\u001b[0;32m    227\u001b[0m         alert_text \u001b[38;5;241m=\u001b[39m value[\u001b[38;5;124m\"\u001b[39m\u001b[38;5;124malert\u001b[39m\u001b[38;5;124m\"\u001b[39m]\u001b[38;5;241m.\u001b[39mget(\u001b[38;5;124m\"\u001b[39m\u001b[38;5;124mtext\u001b[39m\u001b[38;5;124m\"\u001b[39m)\n\u001b[0;32m    228\u001b[0m     \u001b[38;5;28;01mraise\u001b[39;00m exception_class(message, screen, stacktrace, alert_text)  \u001b[38;5;66;03m# type: ignore[call-arg]  # mypy is not smart enough here\u001b[39;00m\n\u001b[1;32m--> 229\u001b[0m \u001b[38;5;28;01mraise\u001b[39;00m exception_class(message, screen, stacktrace)\n",
      "\u001b[1;31mNoSuchElementException\u001b[0m: Message: no such element: Unable to locate element: {\"method\":\"css selector\",\"selector\":\".score\"}\n  (Session info: chrome=119.0.6045.160); For documentation on this error, please visit: https://www.selenium.dev/documentation/webdriver/troubleshooting/errors#no-such-element-exception\nStacktrace:\n\tGetHandleVerifier [0x005472A3+45731]\n\t(No symbol) [0x004D2D51]\n\t(No symbol) [0x003C880D]\n\t(No symbol) [0x003FB940]\n\t(No symbol) [0x003FBE0B]\n\t(No symbol) [0x0042D1F2]\n\t(No symbol) [0x00418024]\n\t(No symbol) [0x0042B7A2]\n\t(No symbol) [0x00417DD6]\n\t(No symbol) [0x003F31F6]\n\t(No symbol) [0x003F439D]\n\tGetHandleVerifier [0x00850716+3229462]\n\tGetHandleVerifier [0x008984C8+3523784]\n\tGetHandleVerifier [0x0089214C+3498316]\n\tGetHandleVerifier [0x005D1680+611968]\n\t(No symbol) [0x004DCCCC]\n\t(No symbol) [0x004D8DF8]\n\t(No symbol) [0x004D8F1D]\n\t(No symbol) [0x004CB2C7]\n\tBaseThreadInitThunk [0x7603FCC9+25]\n\tRtlGetAppContainerNamedObjectPath [0x76F57C6E+286]\n\tRtlGetAppContainerNamedObjectPath [0x76F57C3E+238]\n"
     ]
    }
   ],
   "source": [
    "\n",
    "Product_Name = []\n",
    "# Free_delivery = []\n",
    "SCORE = []\n",
    "# MALL_Status = []\n",
    "# Seller_Rating = []\n",
    "Links = []\n",
    "iteration = 0\n",
    "while iteration < 5:\n",
    "    \n",
    "    phones_inner_link_clickable = driver.find_elements(By.CLASS_NAME,'title--wFj93')\n",
    "    sleep(1)\n",
    "    for basicstrct in range(1,41):\n",
    "        phonexp = '/html/body/div[3]/div/div[3]/div/div/div[1]/div[2]/div['+str(basicstrct)+']/div/div/div[2]/div[2]/a'\n",
    "        phone = driver.find_element(By.XPATH,phonexp)\n",
    "        positive_response = 0\n",
    "        shipping_score = 0\n",
    "        mall_stat = 0\n",
    "        free_stat = 0\n",
    "        lnk = 0\n",
    "        sleep(1)\n",
    "        try:\n",
    "            lnk = phone.find_element(By.XPATH,phonexp).get_attribute('href')\n",
    "            sleep(2)\n",
    "        except StaleElementReferenceException:\n",
    "            pass\n",
    "        Links.append(lnk)\n",
    "        sleep(2)\n",
    "        try:\n",
    "            phone.click()\n",
    "            sleep(2)\n",
    "        except StaleElementReferenceException:\n",
    "            pass\n",
    "        sleep(3)\n",
    "        \n",
    "        \n",
    "        sleep(2)\n",
    "        title = driver.find_element(By.CLASS_NAME,'pdp-mod-product-badge-wrapper').text        ## whole title\n",
    "        free_shipstat = 'Free' in ((driver.find_element(By.CLASS_NAME, 'delivery-option-item').text).split(' ')) \n",
    "        if free_shipstat == True:\n",
    "            free_stat = 1000\n",
    "        else:\n",
    "            free_stat = 0\n",
    "        ## the above line gets a raw text then it checks whether it has the (keyword) in our case  'Free'\n",
    "        price = driver.find_element(By.CLASS_NAME,'pdp-price').text     ## price is returned in the formate.g Rs. 50,999 \n",
    "        price = int(''.join(filter(str.isdigit, price)))                  ## price is converted to 50999\n",
    "        seller_detail_div = driver.find_element(By.CLASS_NAME,'seller-name__detail')\n",
    "        total_anchors = len(seller_detail_div.find_elements(By.TAG_NAME,'a'))            ## checking if it is a daraz mall wali cheez by number of anchor tags\n",
    "        if total_anchors == 2:\n",
    "            mall_stat = 5000\n",
    "        else:\n",
    "            mall_stat = 0\n",
    "        pos = driver.find_elements(By.CLASS_NAME, 'seller-info-value')\n",
    "        strchk_for_positive_rate = not any(char.isdigit() for char in pos[0].text)\n",
    "        shipstr = str(pos[1].text)\n",
    "        strchk_for_shipping = not any(char.isdigit() for char in shipstr)\n",
    "        \n",
    "        if strchk_for_positive_rate == True:\n",
    "            pos = 0\n",
    "            positive_response = pos\n",
    "        else:\n",
    "            positive_response = float(''.join(filter(str.isdigit,pos[0].text)))   ## converting the the number string to float if it is not a string \n",
    "        if strchk_for_shipping == True:\n",
    "            shipping_score = 0\n",
    "        else:\n",
    "            shipping_score = float(''.join(filter(str.isdigit,shipstr)))\n",
    "        \n",
    "        sleep(2)\n",
    "        driver.execute_script(f'window.scrollTo(0,1100)')\n",
    "        sleep(2)\n",
    "        rating = float(driver.find_element(By.CLASS_NAME,'score').text)\n",
    "        print(rating)\n",
    "        \n",
    "        final_score = price+ mall_stat + 10000*((0.4 * (rating / 5)) + (0.4 * (positive_response / 100)) + (0.2 * (shipping_score / 100)))\n",
    "        Product_Name.append(title)\n",
    "        SCORE.append(final_score)\n",
    "        sleep(1)\n",
    "        driver.back()       ## go back to the main screen where all mobiles are present\n",
    "        sleep(1)\n",
    "        \n",
    "    next_page =driver.find_element(By.XPATH, '/html/body/div[3]/div/div[3]/div/div/div[1]/div[3]/div/div/ul/li[9]')\n",
    "    next_page.click()  ## will go on next page by clicking the > icon\n",
    "    sleep(1)\n",
    "    iteration+=1"
   ]
  },
  {
   "cell_type": "code",
   "execution_count": 201,
   "id": "bf29c8e6",
   "metadata": {},
   "outputs": [
    {
     "name": "stdout",
     "output_type": "stream",
     "text": [
      "40\n",
      "40\n",
      "40\n",
      "[60539.0, 59859.0, 98560.0, 96879.0, 98640.0, 62579.0, 60039.0, 70139.0, 64719.0, 70499.0, 96599.0, 57759.0, 59219.0, 70039.0, 68760.0, 72720.0, 80119.0, 97840.0, 68120.0, 80259.0, 80600.0, 84790.0, 61280.0, 68639.0, 95379.0, 68800.0, 60799.0, 95570.0, 72679.0, 64759.0, 60119.0, 65000.0, 96939.0, 94070.0, 64639.0, 66939.0, 63570.0, 61080.0, 66559.0, 52639.0]\n"
     ]
    }
   ],
   "source": [
    "print(len(Links))\n",
    "print(len(SCORE))\n",
    "print(len(Product_Name))\n",
    "print(SCORE)"
   ]
  },
  {
   "cell_type": "code",
   "execution_count": 202,
   "id": "c088f57c",
   "metadata": {},
   "outputs": [],
   "source": [
    "data = {\"Title\" : Product_Name,\n",
    "      \"Score\" :SCORE,\n",
    "     \"Links\" :Links}"
   ]
  },
  {
   "cell_type": "code",
   "execution_count": 203,
   "id": "05b769f1",
   "metadata": {},
   "outputs": [],
   "source": [
    "df =pd.DataFrame(data)"
   ]
  },
  {
   "cell_type": "code",
   "execution_count": 204,
   "id": "763d2efa",
   "metadata": {},
   "outputs": [],
   "source": [
    "df.to_excel('Daraz.xlsx')"
   ]
  },
  {
   "cell_type": "code",
   "execution_count": null,
   "id": "2092edf1",
   "metadata": {},
   "outputs": [],
   "source": []
  }
 ],
 "metadata": {
  "kernelspec": {
   "display_name": "Python 3 (ipykernel)",
   "language": "python",
   "name": "python3"
  },
  "language_info": {
   "codemirror_mode": {
    "name": "ipython",
    "version": 3
   },
   "file_extension": ".py",
   "mimetype": "text/x-python",
   "name": "python",
   "nbconvert_exporter": "python",
   "pygments_lexer": "ipython3",
   "version": "3.11.4"
  }
 },
 "nbformat": 4,
 "nbformat_minor": 5
}
